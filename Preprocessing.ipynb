{
 "cells": [
  {
   "cell_type": "markdown",
   "id": "538b0c3b",
   "metadata": {},
   "source": [
    "# PREPROCESSING"
   ]
  },
  {
   "cell_type": "code",
   "execution_count": 2,
   "id": "81f6e0fb",
   "metadata": {},
   "outputs": [],
   "source": [
    "import pandas as pd\n",
    "import html\n",
    "import numpy as np\n",
    "import re"
   ]
  },
  {
   "cell_type": "code",
   "execution_count": 3,
   "id": "bafc7cc6",
   "metadata": {},
   "outputs": [],
   "source": [
    "df = pd.read_csv('metoo_tweets_dec2017.csv', encoding=\"ISO-8859-1\")\n",
    "\n",
    "# This encoding is called 'Latin-1' which covers Latin scripts like German, English, Spanish.\n",
    "# During trial and error, this encoding transformed the problem characters into something representable and removable."
   ]
  },
  {
   "cell_type": "markdown",
   "id": "8642aeee",
   "metadata": {},
   "source": [
    "##### There were a lot of rows where special characters like apostrophe  and quotes were improperly encoded. \n",
    "##### It went unnoticed during the first round of preprocessing and we only realized there was a problem where the preprocessed text made no sense and was full of arbitrary half-complete words. \n",
    "\n",
    "##### Later in the preprocessing, we are using a library called 'contractions' to expand all of the contractions that come up in tweets because for lemmatization, the contractions must be expanded for it to be able to effectively reduce the words to their root form.\n",
    "\n",
    "##### Here, we printed some of the problem rows to illustrate was exactly was going wrong.\n"
   ]
  },
  {
   "cell_type": "markdown",
   "id": "b7ddc333",
   "metadata": {},
   "source": [
    "# Problem Rows:"
   ]
  },
  {
   "cell_type": "code",
   "execution_count": 4,
   "id": "08b4ecb5",
   "metadata": {},
   "outputs": [
    {
     "data": {
      "text/plain": [
       "'RT @TomArnold: Iâ\\x80\\x99m #MeToo &amp; donâ\\x80\\x99t doubt any other woman but the Leeann Tweeden-John Phillips-Roger Stone lies &amp; set up of Al Franken were pâ\\x80¦'"
      ]
     },
     "execution_count": 4,
     "metadata": {},
     "output_type": "execute_result"
    }
   ],
   "source": [
    "df[df['Unnamed: 0']==174147]['text'].values[0]"
   ]
  },
  {
   "cell_type": "code",
   "execution_count": 5,
   "id": "c8cf3b1b",
   "metadata": {},
   "outputs": [
    {
     "data": {
      "text/plain": [
       "'RT @LeeannTweeden: I\\x89Ûªve decided it\\x89Ûªs time to tell my story. #MeToo\\rhttps://t.co/TqTgfvzkZg'"
      ]
     },
     "execution_count": 5,
     "metadata": {},
     "output_type": "execute_result"
    }
   ],
   "source": [
    "df[df['Unnamed: 0']==49306]['text'].values[0]"
   ]
  },
  {
   "cell_type": "code",
   "execution_count": 6,
   "id": "3a65c572",
   "metadata": {},
   "outputs": [
    {
     "data": {
      "text/plain": [
       "'@JustinTrudeau I have been waiting over a month for a response to a letter from @ChandraNepean regarding sexual abu\\x89Û_ https://t.co/P7yo6ZteqW'"
      ]
     },
     "execution_count": 6,
     "metadata": {},
     "output_type": "execute_result"
    }
   ],
   "source": [
    "df[df['Unnamed: 0']==32505]['text'].values[0]"
   ]
  },
  {
   "cell_type": "code",
   "execution_count": 7,
   "id": "d4f405f3",
   "metadata": {},
   "outputs": [
    {
     "data": {
      "text/plain": [
       "'When you speak the truth they\\x89Ûªll always abandon you. #MeToo @SBBookJBraxton https://t.co/AitbenL4E1'"
      ]
     },
     "execution_count": 7,
     "metadata": {},
     "output_type": "execute_result"
    }
   ],
   "source": [
    "df[df['Unnamed: 0']==31564]['text'].values[0]"
   ]
  },
  {
   "cell_type": "code",
   "execution_count": 8,
   "id": "befce141",
   "metadata": {},
   "outputs": [
    {
     "data": {
      "text/plain": [
       "'@StockMonsterVIP @3stherfr33bird #metoo he gets it. And he isn\\x89Ûªt prejudice! Practical with #EYESWIDEOPEN'"
      ]
     },
     "execution_count": 8,
     "metadata": {},
     "output_type": "execute_result"
    }
   ],
   "source": [
    "df[df['Unnamed: 0']==27379]['text'].values[0]"
   ]
  },
  {
   "cell_type": "code",
   "execution_count": 9,
   "id": "64422d4f",
   "metadata": {},
   "outputs": [
    {
     "data": {
      "text/plain": [
       "'@yashar Franken should resign, in my opinion.  I\\x89Ûªm not on Team Blue, I\\x89Ûªm not on Team Red, I\\x89Ûªm on Team Pink Pussy. V\\x89Û_ https://t.co/e01EVf93ck'"
      ]
     },
     "execution_count": 9,
     "metadata": {},
     "output_type": "execute_result"
    }
   ],
   "source": [
    "df[df['Unnamed: 0']==25833]['text'].values[0]"
   ]
  },
  {
   "cell_type": "code",
   "execution_count": 10,
   "id": "ec2ee15a",
   "metadata": {},
   "outputs": [
    {
     "data": {
      "text/plain": [
       "\"RT @apbenven: Reminder that if a woman didn't post #MeToo, it doesn't mean she wasn't sexually assaulted or harassed. Survivors don't owe y\\x89Û_\""
      ]
     },
     "execution_count": 10,
     "metadata": {},
     "output_type": "execute_result"
    }
   ],
   "source": [
    "df[df['Unnamed: 0']==65379]['text'].values[0]"
   ]
  },
  {
   "cell_type": "code",
   "execution_count": 11,
   "id": "971d5a70",
   "metadata": {},
   "outputs": [
    {
     "data": {
      "text/plain": [
       "'RT @TomArnold: Iâ\\x80\\x99m #MeToo &amp; donâ\\x80\\x99t doubt any other woman but the Leeann Tweeden-John Phillips-Roger Stone lies &amp; set up of Al Franken were pâ\\x80¦'"
      ]
     },
     "execution_count": 11,
     "metadata": {},
     "output_type": "execute_result"
    }
   ],
   "source": [
    "df[df['Unnamed: 0']==127539]['text'].values[0]"
   ]
  },
  {
   "cell_type": "markdown",
   "id": "8b821b69",
   "metadata": {},
   "source": [
    "# Function to Correct Encoding Issue"
   ]
  },
  {
   "cell_type": "code",
   "execution_count": 12,
   "id": "19357958",
   "metadata": {},
   "outputs": [],
   "source": [
    "def decoding_correction(df, column_name):\n",
    "    for index, row in df.iterrows():\n",
    "        try:\n",
    "            text = row[column_name]\n",
    "            text = html.unescape(text)  # Unescape HTML entities first\n",
    "            decoded_text = text.encode('utf-8').decode('utf-8')\n",
    "        except UnicodeEncodeError as e:\n",
    "            # Handling the error\n",
    "            continue\n",
    "\n",
    "        # Apply character cleaning to the decoded_text\n",
    "        cleaned_text = ''.join([char if ord(char) < 128 and char.isprintable() else '' for char in decoded_text])\n",
    "        df.at[index, column_name] = cleaned_text\n",
    "\n",
    "    return df"
   ]
  },
  {
   "cell_type": "markdown",
   "id": "83dc7470",
   "metadata": {},
   "source": [
    "How this function works:\n",
    "\n",
    "- takes in the dataframe and the column name of the column whose encoding issue we want to correct.\n",
    "- we extract the text from that row.\n",
    "- then we unescape the HTML entities meaning `&lt;` is changed into the actual form like `<` because in our dataset, special characters were also present as HTML entities.\n",
    "- then through trail and error, we found that encoding the text into `utf-8` and decoding it back to `utf-8` changes the sequence of improper characters into the actual form, like quotes or apostrophe.\n",
    "- however, there were still some rows where this did not work. \n",
    "- in that case, the encode and decode line gave an error.\n",
    "- for the remaining rows which still contained the problem causing characters, we checked if it was an ASCII character (less than 128) and was printable (with this we were effectively removing white spaces also), and if they didnot meet these conditions, they were noot included in the cleaned text. \n",
    "- we update the row with the clean text."
   ]
  },
  {
   "cell_type": "code",
   "execution_count": 13,
   "id": "32c4438d",
   "metadata": {},
   "outputs": [
    {
     "data": {
      "text/html": [
       "<div>\n",
       "<style scoped>\n",
       "    .dataframe tbody tr th:only-of-type {\n",
       "        vertical-align: middle;\n",
       "    }\n",
       "\n",
       "    .dataframe tbody tr th {\n",
       "        vertical-align: top;\n",
       "    }\n",
       "\n",
       "    .dataframe thead th {\n",
       "        text-align: right;\n",
       "    }\n",
       "</style>\n",
       "<table border=\"1\" class=\"dataframe\">\n",
       "  <thead>\n",
       "    <tr style=\"text-align: right;\">\n",
       "      <th></th>\n",
       "      <th>Unnamed: 0</th>\n",
       "      <th>text</th>\n",
       "      <th>favorited</th>\n",
       "      <th>favoriteCount</th>\n",
       "      <th>replyToSN</th>\n",
       "      <th>created</th>\n",
       "      <th>truncated</th>\n",
       "      <th>replyToSID</th>\n",
       "      <th>id</th>\n",
       "      <th>replyToUID</th>\n",
       "      <th>statusSource</th>\n",
       "      <th>screenName</th>\n",
       "      <th>retweetCount</th>\n",
       "      <th>isRetweet</th>\n",
       "      <th>retweeted</th>\n",
       "      <th>longitude</th>\n",
       "      <th>latitude</th>\n",
       "    </tr>\n",
       "  </thead>\n",
       "  <tbody>\n",
       "    <tr>\n",
       "      <th>0</th>\n",
       "      <td>1</td>\n",
       "      <td>American Harem.. #MeToo https://t.co/HjExLJdGuF</td>\n",
       "      <td>False</td>\n",
       "      <td>0</td>\n",
       "      <td>NaN</td>\n",
       "      <td>11/29/17 23:59</td>\n",
       "      <td>False</td>\n",
       "      <td>NaN</td>\n",
       "      <td>9.360000e+17</td>\n",
       "      <td>NaN</td>\n",
       "      <td>&lt;a href=\"http://instagram.com\" rel=\"nofollow\"&gt;...</td>\n",
       "      <td>ahmediaTV</td>\n",
       "      <td>0</td>\n",
       "      <td>False</td>\n",
       "      <td>False</td>\n",
       "      <td>NaN</td>\n",
       "      <td>NaN</td>\n",
       "    </tr>\n",
       "    <tr>\n",
       "      <th>1</th>\n",
       "      <td>2</td>\n",
       "      <td>@johnconyersjr  @alfranken  why have you guys ...</td>\n",
       "      <td>False</td>\n",
       "      <td>0</td>\n",
       "      <td>johnconyersjr</td>\n",
       "      <td>11/29/17 23:59</td>\n",
       "      <td>False</td>\n",
       "      <td>NaN</td>\n",
       "      <td>9.360000e+17</td>\n",
       "      <td>266149840.0</td>\n",
       "      <td>&lt;a href=\"http://twitter.com\" rel=\"nofollow\"&gt;Tw...</td>\n",
       "      <td>JesusPrepper74</td>\n",
       "      <td>0</td>\n",
       "      <td>False</td>\n",
       "      <td>False</td>\n",
       "      <td>NaN</td>\n",
       "      <td>NaN</td>\n",
       "    </tr>\n",
       "    <tr>\n",
       "      <th>2</th>\n",
       "      <td>3</td>\n",
       "      <td>Watched Megan Kelly ask Joe Keery this A.M. if...</td>\n",
       "      <td>False</td>\n",
       "      <td>0</td>\n",
       "      <td>NaN</td>\n",
       "      <td>11/29/17 23:59</td>\n",
       "      <td>True</td>\n",
       "      <td>NaN</td>\n",
       "      <td>9.360000e+17</td>\n",
       "      <td>NaN</td>\n",
       "      <td>&lt;a href=\"http://twitter.com/download/android\" ...</td>\n",
       "      <td>DemerisePotvin</td>\n",
       "      <td>0</td>\n",
       "      <td>False</td>\n",
       "      <td>False</td>\n",
       "      <td>NaN</td>\n",
       "      <td>NaN</td>\n",
       "    </tr>\n",
       "    <tr>\n",
       "      <th>3</th>\n",
       "      <td>4</td>\n",
       "      <td>Women have been talking about this crap the en...</td>\n",
       "      <td>False</td>\n",
       "      <td>0</td>\n",
       "      <td>NaN</td>\n",
       "      <td>11/29/17 23:59</td>\n",
       "      <td>False</td>\n",
       "      <td>NaN</td>\n",
       "      <td>9.360000e+17</td>\n",
       "      <td>NaN</td>\n",
       "      <td>&lt;a href=\"http://twitter.com\" rel=\"nofollow\"&gt;Tw...</td>\n",
       "      <td>TheDawnStott</td>\n",
       "      <td>0</td>\n",
       "      <td>False</td>\n",
       "      <td>False</td>\n",
       "      <td>NaN</td>\n",
       "      <td>NaN</td>\n",
       "    </tr>\n",
       "    <tr>\n",
       "      <th>4</th>\n",
       "      <td>5</td>\n",
       "      <td>.@BetteMidler please speak to this sexual assa...</td>\n",
       "      <td>False</td>\n",
       "      <td>15</td>\n",
       "      <td>NaN</td>\n",
       "      <td>11/29/17 23:59</td>\n",
       "      <td>False</td>\n",
       "      <td>NaN</td>\n",
       "      <td>9.360000e+17</td>\n",
       "      <td>NaN</td>\n",
       "      <td>&lt;a href=\"http://twitter.com/#!/download/ipad\" ...</td>\n",
       "      <td>scottygirl2014</td>\n",
       "      <td>11</td>\n",
       "      <td>False</td>\n",
       "      <td>False</td>\n",
       "      <td>NaN</td>\n",
       "      <td>NaN</td>\n",
       "    </tr>\n",
       "    <tr>\n",
       "      <th>...</th>\n",
       "      <td>...</td>\n",
       "      <td>...</td>\n",
       "      <td>...</td>\n",
       "      <td>...</td>\n",
       "      <td>...</td>\n",
       "      <td>...</td>\n",
       "      <td>...</td>\n",
       "      <td>...</td>\n",
       "      <td>...</td>\n",
       "      <td>...</td>\n",
       "      <td>...</td>\n",
       "      <td>...</td>\n",
       "      <td>...</td>\n",
       "      <td>...</td>\n",
       "      <td>...</td>\n",
       "      <td>...</td>\n",
       "      <td>...</td>\n",
       "    </tr>\n",
       "    <tr>\n",
       "      <th>393130</th>\n",
       "      <td>393131</td>\n",
       "      <td>RT @Suffragentleman: You can only choose one.....</td>\n",
       "      <td>False</td>\n",
       "      <td>0</td>\n",
       "      <td>NaN</td>\n",
       "      <td>12/25/17 0:00</td>\n",
       "      <td>False</td>\n",
       "      <td>NaN</td>\n",
       "      <td>9.450820e+17</td>\n",
       "      <td>NaN</td>\n",
       "      <td>&lt;a href=\"http://twitter.com/download/android\" ...</td>\n",
       "      <td>boaomega22</td>\n",
       "      <td>616</td>\n",
       "      <td>True</td>\n",
       "      <td>False</td>\n",
       "      <td>NaN</td>\n",
       "      <td>NaN</td>\n",
       "    </tr>\n",
       "    <tr>\n",
       "      <th>393131</th>\n",
       "      <td>393132</td>\n",
       "      <td>#MeToo, say victims of sexual harassment in Ja...</td>\n",
       "      <td>False</td>\n",
       "      <td>0</td>\n",
       "      <td>NaN</td>\n",
       "      <td>12/25/17 0:00</td>\n",
       "      <td>False</td>\n",
       "      <td>NaN</td>\n",
       "      <td>9.450820e+17</td>\n",
       "      <td>NaN</td>\n",
       "      <td>&lt;a href=\"http://bufferapp.com\" rel=\"nofollow\"&gt;...</td>\n",
       "      <td>April_Magazine</td>\n",
       "      <td>0</td>\n",
       "      <td>False</td>\n",
       "      <td>False</td>\n",
       "      <td>NaN</td>\n",
       "      <td>NaN</td>\n",
       "    </tr>\n",
       "    <tr>\n",
       "      <th>393132</th>\n",
       "      <td>393133</td>\n",
       "      <td>Susan Collins tries to #MeToo her way out of h...</td>\n",
       "      <td>False</td>\n",
       "      <td>0</td>\n",
       "      <td>NaN</td>\n",
       "      <td>12/25/17 0:00</td>\n",
       "      <td>False</td>\n",
       "      <td>NaN</td>\n",
       "      <td>9.450820e+17</td>\n",
       "      <td>NaN</td>\n",
       "      <td>&lt;a href=\"http://twitter.com\" rel=\"nofollow\"&gt;Tw...</td>\n",
       "      <td>Noofer55</td>\n",
       "      <td>0</td>\n",
       "      <td>False</td>\n",
       "      <td>False</td>\n",
       "      <td>NaN</td>\n",
       "      <td>NaN</td>\n",
       "    </tr>\n",
       "    <tr>\n",
       "      <th>393133</th>\n",
       "      <td>393134</td>\n",
       "      <td>RT @OneMillionVjj: Punish those who choose not...</td>\n",
       "      <td>False</td>\n",
       "      <td>0</td>\n",
       "      <td>NaN</td>\n",
       "      <td>12/25/17 0:00</td>\n",
       "      <td>False</td>\n",
       "      <td>NaN</td>\n",
       "      <td>9.450820e+17</td>\n",
       "      <td>NaN</td>\n",
       "      <td>&lt;a href=\"http://twitter.com\" rel=\"nofollow\"&gt;Tw...</td>\n",
       "      <td>ZBezzt</td>\n",
       "      <td>5</td>\n",
       "      <td>True</td>\n",
       "      <td>False</td>\n",
       "      <td>NaN</td>\n",
       "      <td>NaN</td>\n",
       "    </tr>\n",
       "    <tr>\n",
       "      <th>393134</th>\n",
       "      <td>393135</td>\n",
       "      <td>Chief Justice John Roberts orders misconduct r...</td>\n",
       "      <td>False</td>\n",
       "      <td>3</td>\n",
       "      <td>NaN</td>\n",
       "      <td>12/25/17 0:00</td>\n",
       "      <td>False</td>\n",
       "      <td>NaN</td>\n",
       "      <td>9.450820e+17</td>\n",
       "      <td>NaN</td>\n",
       "      <td>&lt;a href=\"http://twitter.com\" rel=\"nofollow\"&gt;Tw...</td>\n",
       "      <td>pewdrdad</td>\n",
       "      <td>3</td>\n",
       "      <td>False</td>\n",
       "      <td>False</td>\n",
       "      <td>NaN</td>\n",
       "      <td>NaN</td>\n",
       "    </tr>\n",
       "  </tbody>\n",
       "</table>\n",
       "<p>393135 rows × 17 columns</p>\n",
       "</div>"
      ],
      "text/plain": [
       "        Unnamed: 0                                               text  \\\n",
       "0                1    American Harem.. #MeToo https://t.co/HjExLJdGuF   \n",
       "1                2  @johnconyersjr  @alfranken  why have you guys ...   \n",
       "2                3  Watched Megan Kelly ask Joe Keery this A.M. if...   \n",
       "3                4  Women have been talking about this crap the en...   \n",
       "4                5  .@BetteMidler please speak to this sexual assa...   \n",
       "...            ...                                                ...   \n",
       "393130      393131  RT @Suffragentleman: You can only choose one.....   \n",
       "393131      393132  #MeToo, say victims of sexual harassment in Ja...   \n",
       "393132      393133  Susan Collins tries to #MeToo her way out of h...   \n",
       "393133      393134  RT @OneMillionVjj: Punish those who choose not...   \n",
       "393134      393135  Chief Justice John Roberts orders misconduct r...   \n",
       "\n",
       "        favorited  favoriteCount      replyToSN         created  truncated  \\\n",
       "0           False              0            NaN  11/29/17 23:59      False   \n",
       "1           False              0  johnconyersjr  11/29/17 23:59      False   \n",
       "2           False              0            NaN  11/29/17 23:59       True   \n",
       "3           False              0            NaN  11/29/17 23:59      False   \n",
       "4           False             15            NaN  11/29/17 23:59      False   \n",
       "...           ...            ...            ...             ...        ...   \n",
       "393130      False              0            NaN   12/25/17 0:00      False   \n",
       "393131      False              0            NaN   12/25/17 0:00      False   \n",
       "393132      False              0            NaN   12/25/17 0:00      False   \n",
       "393133      False              0            NaN   12/25/17 0:00      False   \n",
       "393134      False              3            NaN   12/25/17 0:00      False   \n",
       "\n",
       "        replyToSID            id   replyToUID  \\\n",
       "0              NaN  9.360000e+17          NaN   \n",
       "1              NaN  9.360000e+17  266149840.0   \n",
       "2              NaN  9.360000e+17          NaN   \n",
       "3              NaN  9.360000e+17          NaN   \n",
       "4              NaN  9.360000e+17          NaN   \n",
       "...            ...           ...          ...   \n",
       "393130         NaN  9.450820e+17          NaN   \n",
       "393131         NaN  9.450820e+17          NaN   \n",
       "393132         NaN  9.450820e+17          NaN   \n",
       "393133         NaN  9.450820e+17          NaN   \n",
       "393134         NaN  9.450820e+17          NaN   \n",
       "\n",
       "                                             statusSource      screenName  \\\n",
       "0       <a href=\"http://instagram.com\" rel=\"nofollow\">...       ahmediaTV   \n",
       "1       <a href=\"http://twitter.com\" rel=\"nofollow\">Tw...  JesusPrepper74   \n",
       "2       <a href=\"http://twitter.com/download/android\" ...  DemerisePotvin   \n",
       "3       <a href=\"http://twitter.com\" rel=\"nofollow\">Tw...    TheDawnStott   \n",
       "4       <a href=\"http://twitter.com/#!/download/ipad\" ...  scottygirl2014   \n",
       "...                                                   ...             ...   \n",
       "393130  <a href=\"http://twitter.com/download/android\" ...      boaomega22   \n",
       "393131  <a href=\"http://bufferapp.com\" rel=\"nofollow\">...  April_Magazine   \n",
       "393132  <a href=\"http://twitter.com\" rel=\"nofollow\">Tw...        Noofer55   \n",
       "393133  <a href=\"http://twitter.com\" rel=\"nofollow\">Tw...          ZBezzt   \n",
       "393134  <a href=\"http://twitter.com\" rel=\"nofollow\">Tw...        pewdrdad   \n",
       "\n",
       "        retweetCount  isRetweet  retweeted  longitude  latitude  \n",
       "0                  0      False      False        NaN       NaN  \n",
       "1                  0      False      False        NaN       NaN  \n",
       "2                  0      False      False        NaN       NaN  \n",
       "3                  0      False      False        NaN       NaN  \n",
       "4                 11      False      False        NaN       NaN  \n",
       "...              ...        ...        ...        ...       ...  \n",
       "393130           616       True      False        NaN       NaN  \n",
       "393131             0      False      False        NaN       NaN  \n",
       "393132             0      False      False        NaN       NaN  \n",
       "393133             5       True      False        NaN       NaN  \n",
       "393134             3      False      False        NaN       NaN  \n",
       "\n",
       "[393135 rows x 17 columns]"
      ]
     },
     "execution_count": 13,
     "metadata": {},
     "output_type": "execute_result"
    }
   ],
   "source": [
    "# printing the df\n",
    "decoding_correction(df, 'text')"
   ]
  },
  {
   "cell_type": "markdown",
   "id": "ba44e32c",
   "metadata": {},
   "source": [
    "#### Printing the earlier problem rows to check if the non-ASCII characters were effectively removed/replaced with the correct character."
   ]
  },
  {
   "cell_type": "code",
   "execution_count": 14,
   "id": "2351e7b4",
   "metadata": {},
   "outputs": [
    {
     "data": {
      "text/plain": [
       "'RT @TomArnold: Im #MeToo & dont doubt any other woman but the Leeann Tweeden-John Phillips-Roger Stone lies & set up of Al Franken were p'"
      ]
     },
     "execution_count": 14,
     "metadata": {},
     "output_type": "execute_result"
    }
   ],
   "source": [
    "df[df['Unnamed: 0']==174147]['text'].values[0]"
   ]
  },
  {
   "cell_type": "code",
   "execution_count": 15,
   "id": "a7173483",
   "metadata": {},
   "outputs": [
    {
     "data": {
      "text/plain": [
       "'RT @LeeannTweeden: Ive decided its time to tell my story. #MeToohttps://t.co/TqTgfvzkZg'"
      ]
     },
     "execution_count": 15,
     "metadata": {},
     "output_type": "execute_result"
    }
   ],
   "source": [
    "df[df['Unnamed: 0']==49306]['text'].values[0]"
   ]
  },
  {
   "cell_type": "code",
   "execution_count": 16,
   "id": "7d911460",
   "metadata": {},
   "outputs": [
    {
     "data": {
      "text/plain": [
       "'@JustinTrudeau I have been waiting over a month for a response to a letter from @ChandraNepean regarding sexual abu_ https://t.co/P7yo6ZteqW'"
      ]
     },
     "execution_count": 16,
     "metadata": {},
     "output_type": "execute_result"
    }
   ],
   "source": [
    "df[df['Unnamed: 0']==32505]['text'].values[0]"
   ]
  },
  {
   "cell_type": "code",
   "execution_count": 17,
   "id": "786db1d5",
   "metadata": {},
   "outputs": [
    {
     "data": {
      "text/plain": [
       "'When you speak the truth theyll always abandon you. #MeToo @SBBookJBraxton https://t.co/AitbenL4E1'"
      ]
     },
     "execution_count": 17,
     "metadata": {},
     "output_type": "execute_result"
    }
   ],
   "source": [
    "df[df['Unnamed: 0']==31564]['text'].values[0]"
   ]
  },
  {
   "cell_type": "code",
   "execution_count": 18,
   "id": "071eb7b3",
   "metadata": {},
   "outputs": [
    {
     "data": {
      "text/plain": [
       "'@StockMonsterVIP @3stherfr33bird #metoo he gets it. And he isnt prejudice! Practical with #EYESWIDEOPEN'"
      ]
     },
     "execution_count": 18,
     "metadata": {},
     "output_type": "execute_result"
    }
   ],
   "source": [
    "df[df['Unnamed: 0']==27379]['text'].values[0]"
   ]
  },
  {
   "cell_type": "code",
   "execution_count": 19,
   "id": "22ea61bf",
   "metadata": {},
   "outputs": [
    {
     "data": {
      "text/plain": [
       "'@yashar Franken should resign, in my opinion.  Im not on Team Blue, Im not on Team Red, Im on Team Pink Pussy. V_ https://t.co/e01EVf93ck'"
      ]
     },
     "execution_count": 19,
     "metadata": {},
     "output_type": "execute_result"
    }
   ],
   "source": [
    "df[df['Unnamed: 0']==25833]['text'].values[0]"
   ]
  },
  {
   "cell_type": "code",
   "execution_count": 20,
   "id": "4bb88860",
   "metadata": {},
   "outputs": [
    {
     "data": {
      "text/plain": [
       "\"RT @apbenven: Reminder that if a woman didn't post #MeToo, it doesn't mean she wasn't sexually assaulted or harassed. Survivors don't owe y_\""
      ]
     },
     "execution_count": 20,
     "metadata": {},
     "output_type": "execute_result"
    }
   ],
   "source": [
    "df[df['Unnamed: 0']==65379]['text'].values[0]"
   ]
  },
  {
   "cell_type": "code",
   "execution_count": 21,
   "id": "427c6360",
   "metadata": {},
   "outputs": [
    {
     "data": {
      "text/plain": [
       "'RT @TomArnold: Im #MeToo & dont doubt any other woman but the Leeann Tweeden-John Phillips-Roger Stone lies & set up of Al Franken were p'"
      ]
     },
     "execution_count": 21,
     "metadata": {},
     "output_type": "execute_result"
    }
   ],
   "source": [
    "df[df['Unnamed: 0']==127539]['text'].values[0]"
   ]
  },
  {
   "cell_type": "code",
   "execution_count": 22,
   "id": "65e8c259",
   "metadata": {},
   "outputs": [
    {
     "data": {
      "text/html": [
       "<div>\n",
       "<style scoped>\n",
       "    .dataframe tbody tr th:only-of-type {\n",
       "        vertical-align: middle;\n",
       "    }\n",
       "\n",
       "    .dataframe tbody tr th {\n",
       "        vertical-align: top;\n",
       "    }\n",
       "\n",
       "    .dataframe thead th {\n",
       "        text-align: right;\n",
       "    }\n",
       "</style>\n",
       "<table border=\"1\" class=\"dataframe\">\n",
       "  <thead>\n",
       "    <tr style=\"text-align: right;\">\n",
       "      <th></th>\n",
       "      <th>Unnamed: 0</th>\n",
       "      <th>text</th>\n",
       "      <th>favorited</th>\n",
       "      <th>favoriteCount</th>\n",
       "      <th>replyToSN</th>\n",
       "      <th>created</th>\n",
       "      <th>truncated</th>\n",
       "      <th>replyToSID</th>\n",
       "      <th>id</th>\n",
       "      <th>replyToUID</th>\n",
       "      <th>statusSource</th>\n",
       "      <th>screenName</th>\n",
       "      <th>retweetCount</th>\n",
       "      <th>isRetweet</th>\n",
       "      <th>retweeted</th>\n",
       "      <th>longitude</th>\n",
       "      <th>latitude</th>\n",
       "    </tr>\n",
       "  </thead>\n",
       "  <tbody>\n",
       "    <tr>\n",
       "      <th>0</th>\n",
       "      <td>1</td>\n",
       "      <td>American Harem.. #MeToo https://t.co/HjExLJdGuF</td>\n",
       "      <td>False</td>\n",
       "      <td>0</td>\n",
       "      <td>NaN</td>\n",
       "      <td>11/29/17 23:59</td>\n",
       "      <td>False</td>\n",
       "      <td>NaN</td>\n",
       "      <td>9.360000e+17</td>\n",
       "      <td>NaN</td>\n",
       "      <td>&lt;a href=\"http://instagram.com\" rel=\"nofollow\"&gt;...</td>\n",
       "      <td>ahmediaTV</td>\n",
       "      <td>0</td>\n",
       "      <td>False</td>\n",
       "      <td>False</td>\n",
       "      <td>NaN</td>\n",
       "      <td>NaN</td>\n",
       "    </tr>\n",
       "    <tr>\n",
       "      <th>1</th>\n",
       "      <td>2</td>\n",
       "      <td>@johnconyersjr  @alfranken  why have you guys ...</td>\n",
       "      <td>False</td>\n",
       "      <td>0</td>\n",
       "      <td>johnconyersjr</td>\n",
       "      <td>11/29/17 23:59</td>\n",
       "      <td>False</td>\n",
       "      <td>NaN</td>\n",
       "      <td>9.360000e+17</td>\n",
       "      <td>266149840.0</td>\n",
       "      <td>&lt;a href=\"http://twitter.com\" rel=\"nofollow\"&gt;Tw...</td>\n",
       "      <td>JesusPrepper74</td>\n",
       "      <td>0</td>\n",
       "      <td>False</td>\n",
       "      <td>False</td>\n",
       "      <td>NaN</td>\n",
       "      <td>NaN</td>\n",
       "    </tr>\n",
       "    <tr>\n",
       "      <th>2</th>\n",
       "      <td>3</td>\n",
       "      <td>Watched Megan Kelly ask Joe Keery this A.M. if...</td>\n",
       "      <td>False</td>\n",
       "      <td>0</td>\n",
       "      <td>NaN</td>\n",
       "      <td>11/29/17 23:59</td>\n",
       "      <td>True</td>\n",
       "      <td>NaN</td>\n",
       "      <td>9.360000e+17</td>\n",
       "      <td>NaN</td>\n",
       "      <td>&lt;a href=\"http://twitter.com/download/android\" ...</td>\n",
       "      <td>DemerisePotvin</td>\n",
       "      <td>0</td>\n",
       "      <td>False</td>\n",
       "      <td>False</td>\n",
       "      <td>NaN</td>\n",
       "      <td>NaN</td>\n",
       "    </tr>\n",
       "    <tr>\n",
       "      <th>3</th>\n",
       "      <td>4</td>\n",
       "      <td>Women have been talking about this crap the en...</td>\n",
       "      <td>False</td>\n",
       "      <td>0</td>\n",
       "      <td>NaN</td>\n",
       "      <td>11/29/17 23:59</td>\n",
       "      <td>False</td>\n",
       "      <td>NaN</td>\n",
       "      <td>9.360000e+17</td>\n",
       "      <td>NaN</td>\n",
       "      <td>&lt;a href=\"http://twitter.com\" rel=\"nofollow\"&gt;Tw...</td>\n",
       "      <td>TheDawnStott</td>\n",
       "      <td>0</td>\n",
       "      <td>False</td>\n",
       "      <td>False</td>\n",
       "      <td>NaN</td>\n",
       "      <td>NaN</td>\n",
       "    </tr>\n",
       "    <tr>\n",
       "      <th>4</th>\n",
       "      <td>5</td>\n",
       "      <td>.@BetteMidler please speak to this sexual assa...</td>\n",
       "      <td>False</td>\n",
       "      <td>15</td>\n",
       "      <td>NaN</td>\n",
       "      <td>11/29/17 23:59</td>\n",
       "      <td>False</td>\n",
       "      <td>NaN</td>\n",
       "      <td>9.360000e+17</td>\n",
       "      <td>NaN</td>\n",
       "      <td>&lt;a href=\"http://twitter.com/#!/download/ipad\" ...</td>\n",
       "      <td>scottygirl2014</td>\n",
       "      <td>11</td>\n",
       "      <td>False</td>\n",
       "      <td>False</td>\n",
       "      <td>NaN</td>\n",
       "      <td>NaN</td>\n",
       "    </tr>\n",
       "    <tr>\n",
       "      <th>...</th>\n",
       "      <td>...</td>\n",
       "      <td>...</td>\n",
       "      <td>...</td>\n",
       "      <td>...</td>\n",
       "      <td>...</td>\n",
       "      <td>...</td>\n",
       "      <td>...</td>\n",
       "      <td>...</td>\n",
       "      <td>...</td>\n",
       "      <td>...</td>\n",
       "      <td>...</td>\n",
       "      <td>...</td>\n",
       "      <td>...</td>\n",
       "      <td>...</td>\n",
       "      <td>...</td>\n",
       "      <td>...</td>\n",
       "      <td>...</td>\n",
       "    </tr>\n",
       "    <tr>\n",
       "      <th>393130</th>\n",
       "      <td>393131</td>\n",
       "      <td>RT @Suffragentleman: You can only choose one.....</td>\n",
       "      <td>False</td>\n",
       "      <td>0</td>\n",
       "      <td>NaN</td>\n",
       "      <td>12/25/17 0:00</td>\n",
       "      <td>False</td>\n",
       "      <td>NaN</td>\n",
       "      <td>9.450820e+17</td>\n",
       "      <td>NaN</td>\n",
       "      <td>&lt;a href=\"http://twitter.com/download/android\" ...</td>\n",
       "      <td>boaomega22</td>\n",
       "      <td>616</td>\n",
       "      <td>True</td>\n",
       "      <td>False</td>\n",
       "      <td>NaN</td>\n",
       "      <td>NaN</td>\n",
       "    </tr>\n",
       "    <tr>\n",
       "      <th>393131</th>\n",
       "      <td>393132</td>\n",
       "      <td>#MeToo, say victims of sexual harassment in Ja...</td>\n",
       "      <td>False</td>\n",
       "      <td>0</td>\n",
       "      <td>NaN</td>\n",
       "      <td>12/25/17 0:00</td>\n",
       "      <td>False</td>\n",
       "      <td>NaN</td>\n",
       "      <td>9.450820e+17</td>\n",
       "      <td>NaN</td>\n",
       "      <td>&lt;a href=\"http://bufferapp.com\" rel=\"nofollow\"&gt;...</td>\n",
       "      <td>April_Magazine</td>\n",
       "      <td>0</td>\n",
       "      <td>False</td>\n",
       "      <td>False</td>\n",
       "      <td>NaN</td>\n",
       "      <td>NaN</td>\n",
       "    </tr>\n",
       "    <tr>\n",
       "      <th>393132</th>\n",
       "      <td>393133</td>\n",
       "      <td>Susan Collins tries to #MeToo her way out of h...</td>\n",
       "      <td>False</td>\n",
       "      <td>0</td>\n",
       "      <td>NaN</td>\n",
       "      <td>12/25/17 0:00</td>\n",
       "      <td>False</td>\n",
       "      <td>NaN</td>\n",
       "      <td>9.450820e+17</td>\n",
       "      <td>NaN</td>\n",
       "      <td>&lt;a href=\"http://twitter.com\" rel=\"nofollow\"&gt;Tw...</td>\n",
       "      <td>Noofer55</td>\n",
       "      <td>0</td>\n",
       "      <td>False</td>\n",
       "      <td>False</td>\n",
       "      <td>NaN</td>\n",
       "      <td>NaN</td>\n",
       "    </tr>\n",
       "    <tr>\n",
       "      <th>393133</th>\n",
       "      <td>393134</td>\n",
       "      <td>RT @OneMillionVjj: Punish those who choose not...</td>\n",
       "      <td>False</td>\n",
       "      <td>0</td>\n",
       "      <td>NaN</td>\n",
       "      <td>12/25/17 0:00</td>\n",
       "      <td>False</td>\n",
       "      <td>NaN</td>\n",
       "      <td>9.450820e+17</td>\n",
       "      <td>NaN</td>\n",
       "      <td>&lt;a href=\"http://twitter.com\" rel=\"nofollow\"&gt;Tw...</td>\n",
       "      <td>ZBezzt</td>\n",
       "      <td>5</td>\n",
       "      <td>True</td>\n",
       "      <td>False</td>\n",
       "      <td>NaN</td>\n",
       "      <td>NaN</td>\n",
       "    </tr>\n",
       "    <tr>\n",
       "      <th>393134</th>\n",
       "      <td>393135</td>\n",
       "      <td>Chief Justice John Roberts orders misconduct r...</td>\n",
       "      <td>False</td>\n",
       "      <td>3</td>\n",
       "      <td>NaN</td>\n",
       "      <td>12/25/17 0:00</td>\n",
       "      <td>False</td>\n",
       "      <td>NaN</td>\n",
       "      <td>9.450820e+17</td>\n",
       "      <td>NaN</td>\n",
       "      <td>&lt;a href=\"http://twitter.com\" rel=\"nofollow\"&gt;Tw...</td>\n",
       "      <td>pewdrdad</td>\n",
       "      <td>3</td>\n",
       "      <td>False</td>\n",
       "      <td>False</td>\n",
       "      <td>NaN</td>\n",
       "      <td>NaN</td>\n",
       "    </tr>\n",
       "  </tbody>\n",
       "</table>\n",
       "<p>393135 rows × 17 columns</p>\n",
       "</div>"
      ],
      "text/plain": [
       "        Unnamed: 0                                               text  \\\n",
       "0                1    American Harem.. #MeToo https://t.co/HjExLJdGuF   \n",
       "1                2  @johnconyersjr  @alfranken  why have you guys ...   \n",
       "2                3  Watched Megan Kelly ask Joe Keery this A.M. if...   \n",
       "3                4  Women have been talking about this crap the en...   \n",
       "4                5  .@BetteMidler please speak to this sexual assa...   \n",
       "...            ...                                                ...   \n",
       "393130      393131  RT @Suffragentleman: You can only choose one.....   \n",
       "393131      393132  #MeToo, say victims of sexual harassment in Ja...   \n",
       "393132      393133  Susan Collins tries to #MeToo her way out of h...   \n",
       "393133      393134  RT @OneMillionVjj: Punish those who choose not...   \n",
       "393134      393135  Chief Justice John Roberts orders misconduct r...   \n",
       "\n",
       "        favorited  favoriteCount      replyToSN         created  truncated  \\\n",
       "0           False              0            NaN  11/29/17 23:59      False   \n",
       "1           False              0  johnconyersjr  11/29/17 23:59      False   \n",
       "2           False              0            NaN  11/29/17 23:59       True   \n",
       "3           False              0            NaN  11/29/17 23:59      False   \n",
       "4           False             15            NaN  11/29/17 23:59      False   \n",
       "...           ...            ...            ...             ...        ...   \n",
       "393130      False              0            NaN   12/25/17 0:00      False   \n",
       "393131      False              0            NaN   12/25/17 0:00      False   \n",
       "393132      False              0            NaN   12/25/17 0:00      False   \n",
       "393133      False              0            NaN   12/25/17 0:00      False   \n",
       "393134      False              3            NaN   12/25/17 0:00      False   \n",
       "\n",
       "        replyToSID            id   replyToUID  \\\n",
       "0              NaN  9.360000e+17          NaN   \n",
       "1              NaN  9.360000e+17  266149840.0   \n",
       "2              NaN  9.360000e+17          NaN   \n",
       "3              NaN  9.360000e+17          NaN   \n",
       "4              NaN  9.360000e+17          NaN   \n",
       "...            ...           ...          ...   \n",
       "393130         NaN  9.450820e+17          NaN   \n",
       "393131         NaN  9.450820e+17          NaN   \n",
       "393132         NaN  9.450820e+17          NaN   \n",
       "393133         NaN  9.450820e+17          NaN   \n",
       "393134         NaN  9.450820e+17          NaN   \n",
       "\n",
       "                                             statusSource      screenName  \\\n",
       "0       <a href=\"http://instagram.com\" rel=\"nofollow\">...       ahmediaTV   \n",
       "1       <a href=\"http://twitter.com\" rel=\"nofollow\">Tw...  JesusPrepper74   \n",
       "2       <a href=\"http://twitter.com/download/android\" ...  DemerisePotvin   \n",
       "3       <a href=\"http://twitter.com\" rel=\"nofollow\">Tw...    TheDawnStott   \n",
       "4       <a href=\"http://twitter.com/#!/download/ipad\" ...  scottygirl2014   \n",
       "...                                                   ...             ...   \n",
       "393130  <a href=\"http://twitter.com/download/android\" ...      boaomega22   \n",
       "393131  <a href=\"http://bufferapp.com\" rel=\"nofollow\">...  April_Magazine   \n",
       "393132  <a href=\"http://twitter.com\" rel=\"nofollow\">Tw...        Noofer55   \n",
       "393133  <a href=\"http://twitter.com\" rel=\"nofollow\">Tw...          ZBezzt   \n",
       "393134  <a href=\"http://twitter.com\" rel=\"nofollow\">Tw...        pewdrdad   \n",
       "\n",
       "        retweetCount  isRetweet  retweeted  longitude  latitude  \n",
       "0                  0      False      False        NaN       NaN  \n",
       "1                  0      False      False        NaN       NaN  \n",
       "2                  0      False      False        NaN       NaN  \n",
       "3                  0      False      False        NaN       NaN  \n",
       "4                 11      False      False        NaN       NaN  \n",
       "...              ...        ...        ...        ...       ...  \n",
       "393130           616       True      False        NaN       NaN  \n",
       "393131             0      False      False        NaN       NaN  \n",
       "393132             0      False      False        NaN       NaN  \n",
       "393133             5       True      False        NaN       NaN  \n",
       "393134             3      False      False        NaN       NaN  \n",
       "\n",
       "[393135 rows x 17 columns]"
      ]
     },
     "execution_count": 22,
     "metadata": {},
     "output_type": "execute_result"
    }
   ],
   "source": [
    "df"
   ]
  },
  {
   "cell_type": "markdown",
   "id": "55cf2ca0",
   "metadata": {},
   "source": [
    "#### After going through these (and more) we concluded that the encoding issue was resolved and words like `Iâ\\x80\\x99m` were converted to either `I'm` or `Im` both of which is acceptable to the contractions library function as it gives `I am` in both cases."
   ]
  },
  {
   "cell_type": "markdown",
   "id": "77c428cf",
   "metadata": {},
   "source": [
    "# Remove all html links"
   ]
  },
  {
   "cell_type": "markdown",
   "id": "0c93beee",
   "metadata": {},
   "source": [
    "#### From the previously printed tweets, we can see that each tweet contained a link to the actual tweet on twitter which was irrelevant to us so we decided to remove it. "
   ]
  },
  {
   "cell_type": "code",
   "execution_count": 23,
   "id": "599534a0",
   "metadata": {},
   "outputs": [],
   "source": [
    "pattern = r'https?://\\S+'  # Regular expression for https?://\n",
    "df['text'] = df['text'].apply(lambda x: re.sub(pattern, '', x))"
   ]
  },
  {
   "cell_type": "markdown",
   "id": "f899cc50",
   "metadata": {},
   "source": [
    "the pattern is defined as:\n",
    "- `http` defines the beginning of all URLs that were recorded in the tweets.\n",
    "- `s?` indicated that the `s` after the `http` is optional and may occur 0 or 1 times.\n",
    "- `://` defines the symbols used in a URL after `https`\n",
    "- `\\S+` part matches the domain/path of the URL since it matches to any non-whitespace character. `+` indicates that it should occur one or more times."
   ]
  },
  {
   "cell_type": "code",
   "execution_count": 24,
   "id": "4bde7117",
   "metadata": {},
   "outputs": [
    {
     "data": {
      "text/plain": [
       "'RT @LeeannTweeden: Ive decided its time to tell my story. #MeToo'"
      ]
     },
     "execution_count": 24,
     "metadata": {},
     "output_type": "execute_result"
    }
   ],
   "source": [
    "df[df['Unnamed: 0']==49306]['text'].values[0]"
   ]
  },
  {
   "cell_type": "code",
   "execution_count": 25,
   "id": "501113cf",
   "metadata": {},
   "outputs": [
    {
     "data": {
      "text/plain": [
       "'@JustinTrudeau I have been waiting over a month for a response to a letter from @ChandraNepean regarding sexual abu_ '"
      ]
     },
     "execution_count": 25,
     "metadata": {},
     "output_type": "execute_result"
    }
   ],
   "source": [
    "df[df['Unnamed: 0']==32505]['text'].values[0]"
   ]
  },
  {
   "cell_type": "code",
   "execution_count": 26,
   "id": "79aafed8",
   "metadata": {},
   "outputs": [
    {
     "data": {
      "text/plain": [
       "'When you speak the truth theyll always abandon you. #MeToo @SBBookJBraxton '"
      ]
     },
     "execution_count": 26,
     "metadata": {},
     "output_type": "execute_result"
    }
   ],
   "source": [
    "df[df['Unnamed: 0']==31564]['text'].values[0]"
   ]
  },
  {
   "cell_type": "code",
   "execution_count": 27,
   "id": "829b3e32",
   "metadata": {},
   "outputs": [
    {
     "data": {
      "text/plain": [
       "'@yashar Franken should resign, in my opinion.  Im not on Team Blue, Im not on Team Red, Im on Team Pink Pussy. V_ '"
      ]
     },
     "execution_count": 27,
     "metadata": {},
     "output_type": "execute_result"
    }
   ],
   "source": [
    "df[df['Unnamed: 0']==25833]['text'].values[0]"
   ]
  },
  {
   "cell_type": "markdown",
   "id": "cd3e1a8d",
   "metadata": {},
   "source": [
    "#### The URLs were effectively removed from the tweets."
   ]
  },
  {
   "cell_type": "markdown",
   "id": "cf2a0e9b",
   "metadata": {},
   "source": [
    "# Remove all usernames @"
   ]
  },
  {
   "cell_type": "code",
   "execution_count": 28,
   "id": "76dca82d",
   "metadata": {},
   "outputs": [],
   "source": [
    "pattern = r'@\\w+'  # Regular expression for Twitter handles\n",
    "df['text'] = df['text'].apply(lambda x: re.sub(pattern, '', x))\n",
    "# apply function to replace the pattern in every row with nothing."
   ]
  },
  {
   "cell_type": "markdown",
   "id": "c3b4654d",
   "metadata": {},
   "source": [
    "the pattern is defined as:\n",
    "- the `@` tells the function to look out for actual @ since usernames start with @.\n",
    "- `\\w+` matches any word characters namely, uppercase/lowercase letters, digits and underscores.\n",
    "- the `+` sign indicates that there can be one or more such characters."
   ]
  },
  {
   "cell_type": "code",
   "execution_count": 29,
   "id": "24bda3a1",
   "metadata": {},
   "outputs": [
    {
     "data": {
      "text/plain": [
       "'RT : Ive decided its time to tell my story. #MeToo'"
      ]
     },
     "execution_count": 29,
     "metadata": {},
     "output_type": "execute_result"
    }
   ],
   "source": [
    "df[df['Unnamed: 0']==49306]['text'].values[0]"
   ]
  },
  {
   "cell_type": "code",
   "execution_count": 30,
   "id": "903bb482",
   "metadata": {},
   "outputs": [
    {
     "data": {
      "text/plain": [
       "' I have been waiting over a month for a response to a letter from  regarding sexual abu_ '"
      ]
     },
     "execution_count": 30,
     "metadata": {},
     "output_type": "execute_result"
    }
   ],
   "source": [
    "df[df['Unnamed: 0']==32505]['text'].values[0]"
   ]
  },
  {
   "cell_type": "code",
   "execution_count": 31,
   "id": "e568d8f6",
   "metadata": {},
   "outputs": [
    {
     "data": {
      "text/plain": [
       "'When you speak the truth theyll always abandon you. #MeToo  '"
      ]
     },
     "execution_count": 31,
     "metadata": {},
     "output_type": "execute_result"
    }
   ],
   "source": [
    "df[df['Unnamed: 0']==31564]['text'].values[0]"
   ]
  },
  {
   "cell_type": "code",
   "execution_count": 32,
   "id": "13855aaa",
   "metadata": {},
   "outputs": [
    {
     "data": {
      "text/plain": [
       "' Franken should resign, in my opinion.  Im not on Team Blue, Im not on Team Red, Im on Team Pink Pussy. V_ '"
      ]
     },
     "execution_count": 32,
     "metadata": {},
     "output_type": "execute_result"
    }
   ],
   "source": [
    "df[df['Unnamed: 0']==25833]['text'].values[0]"
   ]
  },
  {
   "cell_type": "code",
   "execution_count": 33,
   "id": "be7a7b43",
   "metadata": {},
   "outputs": [
    {
     "data": {
      "text/plain": [
       "'RT : Im #MeToo & dont doubt any other woman but the Leeann Tweeden-John Phillips-Roger Stone lies & set up of Al Franken were p'"
      ]
     },
     "execution_count": 33,
     "metadata": {},
     "output_type": "execute_result"
    }
   ],
   "source": [
    "df[df['Unnamed: 0']==127539]['text'].values[0]"
   ]
  },
  {
   "cell_type": "markdown",
   "id": "50ea58be",
   "metadata": {},
   "source": [
    "#### All the usernames were effectively removed."
   ]
  },
  {
   "cell_type": "markdown",
   "id": "a2c84d4a",
   "metadata": {},
   "source": [
    "# Removing leading and trailing spaces"
   ]
  },
  {
   "cell_type": "markdown",
   "id": "b6c34b44",
   "metadata": {},
   "source": [
    "strip() function applied on all rows to remove trailing and leading spaces in case they may have seeped during the above preprocessing steps.\n"
   ]
  },
  {
   "cell_type": "code",
   "execution_count": 34,
   "id": "9f7cbd49",
   "metadata": {},
   "outputs": [],
   "source": [
    "df['text'] = df['text'].apply(lambda x: x.strip())"
   ]
  },
  {
   "cell_type": "code",
   "execution_count": 35,
   "id": "d4fa4618",
   "metadata": {},
   "outputs": [
    {
     "data": {
      "text/plain": [
       "'I have been waiting over a month for a response to a letter from  regarding sexual abu_'"
      ]
     },
     "execution_count": 35,
     "metadata": {},
     "output_type": "execute_result"
    }
   ],
   "source": [
    "df[df['Unnamed: 0']==32505]['text'].values[0]"
   ]
  },
  {
   "cell_type": "markdown",
   "id": "fe89a36b",
   "metadata": {},
   "source": [
    "# Remove all hashtags '#'"
   ]
  },
  {
   "cell_type": "code",
   "execution_count": 36,
   "id": "3f5a031e",
   "metadata": {},
   "outputs": [],
   "source": [
    "df.to_csv(\"preprocessed_1_with_hashtags.csv\") \n",
    "#saving all the tweets that still contain hashtags because they will be needed later."
   ]
  },
  {
   "cell_type": "code",
   "execution_count": 37,
   "id": "8df8cb83",
   "metadata": {},
   "outputs": [],
   "source": [
    "# Regular expression pattern for Twitter handles\n",
    "pattern = r'#\\w+' #identify words starting with '#'\n",
    "df['text_without_hashtag'] = df['text'].apply(lambda x: re.sub(pattern, '', x))"
   ]
  },
  {
   "cell_type": "markdown",
   "id": "5fabe547",
   "metadata": {},
   "source": [
    "#### creating a new column for text that doesnot contain the hashtags."
   ]
  },
  {
   "cell_type": "code",
   "execution_count": 38,
   "id": "cb5604f6",
   "metadata": {},
   "outputs": [
    {
     "data": {
      "text/plain": [
       "'RT : Im  & dont doubt any other woman but the Leeann Tweeden-John Phillips-Roger Stone lies & set up of Al Franken were p'"
      ]
     },
     "execution_count": 38,
     "metadata": {},
     "output_type": "execute_result"
    }
   ],
   "source": [
    "df[df['Unnamed: 0']==127539]['text_without_hashtag'].values[0]"
   ]
  },
  {
   "cell_type": "code",
   "execution_count": 39,
   "id": "f78996d7",
   "metadata": {},
   "outputs": [
    {
     "data": {
      "text/plain": [
       "'When you speak the truth theyll always abandon you. '"
      ]
     },
     "execution_count": 39,
     "metadata": {},
     "output_type": "execute_result"
    }
   ],
   "source": [
    "df[df['Unnamed: 0']==31564]['text_without_hashtag'].values[0]"
   ]
  },
  {
   "cell_type": "code",
   "execution_count": 40,
   "id": "aa61c301",
   "metadata": {},
   "outputs": [
    {
     "data": {
      "text/plain": [
       "'RT : Ive decided its time to tell my story. '"
      ]
     },
     "execution_count": 40,
     "metadata": {},
     "output_type": "execute_result"
    }
   ],
   "source": [
    "df[df['Unnamed: 0']==49306]['text_without_hashtag'].values[0]"
   ]
  },
  {
   "cell_type": "code",
   "execution_count": 41,
   "id": "d7bbcc93",
   "metadata": {},
   "outputs": [],
   "source": [
    "df['text_without_hashtag'] = df['text_without_hashtag'].apply(lambda x: x.strip())\n",
    "# removing leading and trailing spaces that may have crept up after removal of hashtags."
   ]
  },
  {
   "cell_type": "code",
   "execution_count": 42,
   "id": "cee7c740",
   "metadata": {},
   "outputs": [],
   "source": [
    "# checking if the trailing/leading spaces are gone"
   ]
  },
  {
   "cell_type": "code",
   "execution_count": 43,
   "id": "8f289cbb",
   "metadata": {},
   "outputs": [
    {
     "data": {
      "text/plain": [
       "'RT : Ive decided its time to tell my story.'"
      ]
     },
     "execution_count": 43,
     "metadata": {},
     "output_type": "execute_result"
    }
   ],
   "source": [
    "df[df['Unnamed: 0']==49306]['text_without_hashtag'].values[0]"
   ]
  },
  {
   "cell_type": "code",
   "execution_count": 44,
   "id": "a7cc9a7d",
   "metadata": {},
   "outputs": [
    {
     "data": {
      "text/plain": [
       "'When you speak the truth theyll always abandon you.'"
      ]
     },
     "execution_count": 44,
     "metadata": {},
     "output_type": "execute_result"
    }
   ],
   "source": [
    "df[df['Unnamed: 0']==31564]['text_without_hashtag'].values[0]"
   ]
  },
  {
   "cell_type": "markdown",
   "id": "f47f3223",
   "metadata": {},
   "source": [
    "# Removing \" RT : \""
   ]
  },
  {
   "cell_type": "markdown",
   "id": "8838b238",
   "metadata": {},
   "source": [
    "These were in the tweets that were retweeted and didnot provided any meaningfull information to us, so we removed it."
   ]
  },
  {
   "cell_type": "code",
   "execution_count": 45,
   "id": "3fb9325f",
   "metadata": {},
   "outputs": [],
   "source": [
    "df['text'] = df['text'].str.replace('RT : ', '')\n",
    "df['text_without_hashtag'] = df['text_without_hashtag'].str.replace('RT : ', '')\n"
   ]
  },
  {
   "cell_type": "code",
   "execution_count": 46,
   "id": "17bd9485",
   "metadata": {},
   "outputs": [
    {
     "data": {
      "text/plain": [
       "'Ive decided its time to tell my story.'"
      ]
     },
     "execution_count": 46,
     "metadata": {},
     "output_type": "execute_result"
    }
   ],
   "source": [
    "df[df['Unnamed: 0']==49306]['text_without_hashtag'].values[0]"
   ]
  },
  {
   "cell_type": "code",
   "execution_count": 47,
   "id": "ee4144f6",
   "metadata": {},
   "outputs": [
    {
     "data": {
      "text/plain": [
       "'Ive decided its time to tell my story. #MeToo'"
      ]
     },
     "execution_count": 47,
     "metadata": {},
     "output_type": "execute_result"
    }
   ],
   "source": [
    "df[df['Unnamed: 0']==49306]['text'].values[0]"
   ]
  },
  {
   "cell_type": "code",
   "execution_count": 48,
   "id": "03b02381",
   "metadata": {},
   "outputs": [
    {
     "data": {
      "text/plain": [
       "'I have been waiting over a month for a response to a letter from  regarding sexual abu_'"
      ]
     },
     "execution_count": 48,
     "metadata": {},
     "output_type": "execute_result"
    }
   ],
   "source": [
    "df[df['Unnamed: 0']==32505]['text'].values[0]"
   ]
  },
  {
   "cell_type": "code",
   "execution_count": 49,
   "id": "6199120a",
   "metadata": {},
   "outputs": [
    {
     "data": {
      "text/plain": [
       "'Franken should resign, in my opinion.  Im not on Team Blue, Im not on Team Red, Im on Team Pink Pussy. V_'"
      ]
     },
     "execution_count": 49,
     "metadata": {},
     "output_type": "execute_result"
    }
   ],
   "source": [
    "df[df['Unnamed: 0']==25833]['text'].values[0]"
   ]
  },
  {
   "cell_type": "markdown",
   "id": "d5626db8",
   "metadata": {},
   "source": [
    "# Removing trailing underscores\n",
    "\n",
    "At this point, we have two columns:\n",
    "- 'text' --- which has all the tweets, without html links, without @, without \"RT: \" and trailing and leading spaces removed.\n",
    "\n",
    "\n",
    "- 'text_without_hashtag' --- same as 'text', just doesn't have the hashtags. \n",
    "\n",
    "\n",
    "- The reason the tweets with hashtags were preserved is because we want to do analysis on the hashtags.\n",
    "\n",
    "\n",
    "- Now, there are some tweets that have trailing underscores because of the removal of the encoding issue. The `rstrip('_')` will be applied to both 'text' and 'text_without_hashtag'."
   ]
  },
  {
   "cell_type": "code",
   "execution_count": 50,
   "id": "b8890957",
   "metadata": {},
   "outputs": [],
   "source": [
    "df['text'] = df['text'].str.rstrip('_') # removing trailing underscore from 'text'"
   ]
  },
  {
   "cell_type": "code",
   "execution_count": 51,
   "id": "ae63ab47",
   "metadata": {},
   "outputs": [],
   "source": [
    "df['text_without_hashtag'] = df['text_without_hashtag'].str.rstrip('_') # removing trailing underscore from 'text_without_hashtag'"
   ]
  },
  {
   "cell_type": "code",
   "execution_count": 52,
   "id": "87724ade",
   "metadata": {},
   "outputs": [
    {
     "data": {
      "text/plain": [
       "'Franken should resign, in my opinion.  Im not on Team Blue, Im not on Team Red, Im on Team Pink Pussy. V'"
      ]
     },
     "execution_count": 52,
     "metadata": {},
     "output_type": "execute_result"
    }
   ],
   "source": [
    "df[df['Unnamed: 0']==25833]['text'].values[0]"
   ]
  },
  {
   "cell_type": "code",
   "execution_count": 53,
   "id": "793e9156",
   "metadata": {},
   "outputs": [
    {
     "data": {
      "text/plain": [
       "'I have been waiting over a month for a response to a letter from  regarding sexual abu'"
      ]
     },
     "execution_count": 53,
     "metadata": {},
     "output_type": "execute_result"
    }
   ],
   "source": [
    "df[df['Unnamed: 0']==32505]['text'].values[0]"
   ]
  },
  {
   "cell_type": "code",
   "execution_count": 54,
   "id": "7fa03163",
   "metadata": {},
   "outputs": [
    {
     "data": {
      "text/plain": [
       "'I have been waiting over a month for a response to a letter from  regarding sexual abu'"
      ]
     },
     "execution_count": 54,
     "metadata": {},
     "output_type": "execute_result"
    }
   ],
   "source": [
    "df[df['Unnamed: 0']==32505]['text_without_hashtag'].values[0]"
   ]
  },
  {
   "cell_type": "markdown",
   "id": "f8db438e",
   "metadata": {},
   "source": [
    "# Remove trailing and leading double quotes \""
   ]
  },
  {
   "cell_type": "markdown",
   "id": "ab45108e",
   "metadata": {},
   "source": [
    "#### There were some tweets that were in double quotes, so we decided to get eliminate the double quotes too."
   ]
  },
  {
   "cell_type": "code",
   "execution_count": 55,
   "id": "dcc0aa6c",
   "metadata": {},
   "outputs": [
    {
     "data": {
      "text/plain": [
       "'\"Breaking our silence is a must. But without a dialogue,  might just seem not accessible for many Muslim women.\"'"
      ]
     },
     "execution_count": 55,
     "metadata": {},
     "output_type": "execute_result"
    }
   ],
   "source": [
    "df[df['Unnamed: 0']==293277]['text_without_hashtag'].values[0]"
   ]
  },
  {
   "cell_type": "code",
   "execution_count": 56,
   "id": "e41809ba",
   "metadata": {},
   "outputs": [
    {
     "data": {
      "text/plain": [
       "'\"Breaking our silence is a must. But without a dialogue, #MeToo might just seem not accessible for many Muslim women.\" #TheFe'"
      ]
     },
     "execution_count": 56,
     "metadata": {},
     "output_type": "execute_result"
    }
   ],
   "source": [
    "df[df['Unnamed: 0']==293277]['text'].values[0]"
   ]
  },
  {
   "cell_type": "code",
   "execution_count": 57,
   "id": "60462618",
   "metadata": {},
   "outputs": [],
   "source": [
    "df['text'] = df['text'].str.strip('\"')\n",
    "df['text_without_hashtag'] = df['text_without_hashtag'].str.strip('\"')"
   ]
  },
  {
   "cell_type": "code",
   "execution_count": 58,
   "id": "451334fb",
   "metadata": {},
   "outputs": [
    {
     "data": {
      "text/plain": [
       "'Breaking our silence is a must. But without a dialogue, #MeToo might just seem not accessible for many Muslim women.\" #TheFe'"
      ]
     },
     "execution_count": 58,
     "metadata": {},
     "output_type": "execute_result"
    }
   ],
   "source": [
    "df[df['Unnamed: 0']==293277]['text'].values[0]"
   ]
  },
  {
   "cell_type": "code",
   "execution_count": 59,
   "id": "3352bd05",
   "metadata": {},
   "outputs": [
    {
     "data": {
      "text/plain": [
       "'Breaking our silence is a must. But without a dialogue,  might just seem not accessible for many Muslim women.'"
      ]
     },
     "execution_count": 59,
     "metadata": {},
     "output_type": "execute_result"
    }
   ],
   "source": [
    "df[df['Unnamed: 0']==293277]['text_without_hashtag'].values[0]"
   ]
  },
  {
   "cell_type": "markdown",
   "id": "ff364b48",
   "metadata": {},
   "source": [
    "# Removal of trailing and leading spaces (again)"
   ]
  },
  {
   "cell_type": "code",
   "execution_count": 60,
   "id": "237f3d91",
   "metadata": {},
   "outputs": [],
   "source": [
    "df['text'] = df['text'].apply(lambda x: x.strip())\n",
    "df['text_without_hashtag'] = df['text_without_hashtag'].apply(lambda x: x.strip())"
   ]
  },
  {
   "cell_type": "markdown",
   "id": "bc81d5d0",
   "metadata": {},
   "source": [
    "# Converting all the words to lowercase"
   ]
  },
  {
   "cell_type": "code",
   "execution_count": 61,
   "id": "c18807b8",
   "metadata": {},
   "outputs": [],
   "source": [
    "df['text'] = df['text'].str.lower()\n",
    "df['text_without_hashtag'] = df['text_without_hashtag'].str.lower()"
   ]
  },
  {
   "cell_type": "markdown",
   "id": "c9b6bd2b",
   "metadata": {},
   "source": [
    "# Expanding contractions"
   ]
  },
  {
   "cell_type": "code",
   "execution_count": 62,
   "id": "dc5bbccd",
   "metadata": {},
   "outputs": [],
   "source": [
    "import contractions\n",
    "def expand_contractions(text):\n",
    "   expanded_text = contractions.fix(text)\n",
    "   return expanded_text"
   ]
  },
  {
   "cell_type": "markdown",
   "id": "f63702c5",
   "metadata": {},
   "source": [
    "how the function works:\n",
    "- we used the .fix function from the contractions library to expand the contractions and returned the expanded text."
   ]
  },
  {
   "cell_type": "code",
   "execution_count": 63,
   "id": "85cb8757",
   "metadata": {},
   "outputs": [],
   "source": [
    "df['expanded_tweet'] = df['text_without_hashtag'].apply(lambda x: expand_contractions(x))"
   ]
  },
  {
   "cell_type": "markdown",
   "id": "1ff717e1",
   "metadata": {},
   "source": [
    "the tweets in which contractions were expanded were stored in a newly made column called `expanded_tweets`"
   ]
  },
  {
   "cell_type": "markdown",
   "id": "8a0ef7d4",
   "metadata": {},
   "source": [
    "# Removing punctuation\n"
   ]
  },
  {
   "cell_type": "code",
   "execution_count": 64,
   "id": "6daac0ed",
   "metadata": {},
   "outputs": [],
   "source": [
    "import string\n",
    "exclude = string.punctuation\n",
    "remove_punctuation = str.maketrans('','',exclude)"
   ]
  },
  {
   "cell_type": "markdown",
   "id": "1fd24f28",
   "metadata": {},
   "source": [
    "Code explaination:\n",
    "- string module is imported, it contains various string constants like letters, digits and punctuation.\n",
    "- exclude is being defined as a string that contains all ASCII punctuation characters.\n",
    "- the `maketrans` function is used make a translation table for the replacement/removal.\n",
    "- the first two parameters are empty strings because they tell what is to be replaced with what. \n",
    "- since, there is no replacement, only removal, those are empty. We have no mappings.  \n",
    "- the third arugment contains a string of all the punctuation characters to be removed.\n",
    "- so the line `str.maketrans('','',exclude)` says 'remove all the characters present in `exclude` string from the og string.'\n"
   ]
  },
  {
   "cell_type": "code",
   "execution_count": 65,
   "id": "079da1e9",
   "metadata": {},
   "outputs": [],
   "source": [
    "df['punctuation_removed'] = df['expanded_tweet'].apply(lambda x:x.translate(remove_punctuation))"
   ]
  },
  {
   "cell_type": "markdown",
   "id": "a40e7fac",
   "metadata": {},
   "source": [
    "- the `translate` function is used to apply this instance of str.maketrans which is a translation table."
   ]
  },
  {
   "cell_type": "code",
   "execution_count": 66,
   "id": "179c57cd",
   "metadata": {},
   "outputs": [
    {
     "data": {
      "text/html": [
       "<div>\n",
       "<style scoped>\n",
       "    .dataframe tbody tr th:only-of-type {\n",
       "        vertical-align: middle;\n",
       "    }\n",
       "\n",
       "    .dataframe tbody tr th {\n",
       "        vertical-align: top;\n",
       "    }\n",
       "\n",
       "    .dataframe thead th {\n",
       "        text-align: right;\n",
       "    }\n",
       "</style>\n",
       "<table border=\"1\" class=\"dataframe\">\n",
       "  <thead>\n",
       "    <tr style=\"text-align: right;\">\n",
       "      <th></th>\n",
       "      <th>Unnamed: 0</th>\n",
       "      <th>text</th>\n",
       "      <th>favorited</th>\n",
       "      <th>favoriteCount</th>\n",
       "      <th>replyToSN</th>\n",
       "      <th>created</th>\n",
       "      <th>truncated</th>\n",
       "      <th>replyToSID</th>\n",
       "      <th>id</th>\n",
       "      <th>replyToUID</th>\n",
       "      <th>statusSource</th>\n",
       "      <th>screenName</th>\n",
       "      <th>retweetCount</th>\n",
       "      <th>isRetweet</th>\n",
       "      <th>retweeted</th>\n",
       "      <th>longitude</th>\n",
       "      <th>latitude</th>\n",
       "      <th>text_without_hashtag</th>\n",
       "      <th>expanded_tweet</th>\n",
       "      <th>punctuation_removed</th>\n",
       "    </tr>\n",
       "  </thead>\n",
       "  <tbody>\n",
       "    <tr>\n",
       "      <th>0</th>\n",
       "      <td>1</td>\n",
       "      <td>american harem.. #metoo</td>\n",
       "      <td>False</td>\n",
       "      <td>0</td>\n",
       "      <td>NaN</td>\n",
       "      <td>11/29/17 23:59</td>\n",
       "      <td>False</td>\n",
       "      <td>NaN</td>\n",
       "      <td>9.360000e+17</td>\n",
       "      <td>NaN</td>\n",
       "      <td>&lt;a href=\"http://instagram.com\" rel=\"nofollow\"&gt;...</td>\n",
       "      <td>ahmediaTV</td>\n",
       "      <td>0</td>\n",
       "      <td>False</td>\n",
       "      <td>False</td>\n",
       "      <td>NaN</td>\n",
       "      <td>NaN</td>\n",
       "      <td>american harem..</td>\n",
       "      <td>american harem..</td>\n",
       "      <td>american harem</td>\n",
       "    </tr>\n",
       "    <tr>\n",
       "      <th>1</th>\n",
       "      <td>2</td>\n",
       "      <td>why have you guys not resigned yet? liberal hy...</td>\n",
       "      <td>False</td>\n",
       "      <td>0</td>\n",
       "      <td>johnconyersjr</td>\n",
       "      <td>11/29/17 23:59</td>\n",
       "      <td>False</td>\n",
       "      <td>NaN</td>\n",
       "      <td>9.360000e+17</td>\n",
       "      <td>266149840.0</td>\n",
       "      <td>&lt;a href=\"http://twitter.com\" rel=\"nofollow\"&gt;Tw...</td>\n",
       "      <td>JesusPrepper74</td>\n",
       "      <td>0</td>\n",
       "      <td>False</td>\n",
       "      <td>False</td>\n",
       "      <td>NaN</td>\n",
       "      <td>NaN</td>\n",
       "      <td>why have you guys not resigned yet? liberal hy...</td>\n",
       "      <td>why have you guys not resigned yet? liberal hy...</td>\n",
       "      <td>why have you guys not resigned yet liberal hyp...</td>\n",
       "    </tr>\n",
       "    <tr>\n",
       "      <th>2</th>\n",
       "      <td>3</td>\n",
       "      <td>watched megan kelly ask joe keery this a.m. if...</td>\n",
       "      <td>False</td>\n",
       "      <td>0</td>\n",
       "      <td>NaN</td>\n",
       "      <td>11/29/17 23:59</td>\n",
       "      <td>True</td>\n",
       "      <td>NaN</td>\n",
       "      <td>9.360000e+17</td>\n",
       "      <td>NaN</td>\n",
       "      <td>&lt;a href=\"http://twitter.com/download/android\" ...</td>\n",
       "      <td>DemerisePotvin</td>\n",
       "      <td>0</td>\n",
       "      <td>False</td>\n",
       "      <td>False</td>\n",
       "      <td>NaN</td>\n",
       "      <td>NaN</td>\n",
       "      <td>watched megan kelly ask joe keery this a.m. if...</td>\n",
       "      <td>watched megan kelly ask joe keery this a.m. if...</td>\n",
       "      <td>watched megan kelly ask joe keery this am if s...</td>\n",
       "    </tr>\n",
       "    <tr>\n",
       "      <th>3</th>\n",
       "      <td>4</td>\n",
       "      <td>women have been talking about this crap the en...</td>\n",
       "      <td>False</td>\n",
       "      <td>0</td>\n",
       "      <td>NaN</td>\n",
       "      <td>11/29/17 23:59</td>\n",
       "      <td>False</td>\n",
       "      <td>NaN</td>\n",
       "      <td>9.360000e+17</td>\n",
       "      <td>NaN</td>\n",
       "      <td>&lt;a href=\"http://twitter.com\" rel=\"nofollow\"&gt;Tw...</td>\n",
       "      <td>TheDawnStott</td>\n",
       "      <td>0</td>\n",
       "      <td>False</td>\n",
       "      <td>False</td>\n",
       "      <td>NaN</td>\n",
       "      <td>NaN</td>\n",
       "      <td>women have been talking about this crap the en...</td>\n",
       "      <td>women have been talking about this crap the en...</td>\n",
       "      <td>women have been talking about this crap the en...</td>\n",
       "    </tr>\n",
       "    <tr>\n",
       "      <th>4</th>\n",
       "      <td>5</td>\n",
       "      <td>. please speak to this sexual assault by  duri...</td>\n",
       "      <td>False</td>\n",
       "      <td>15</td>\n",
       "      <td>NaN</td>\n",
       "      <td>11/29/17 23:59</td>\n",
       "      <td>False</td>\n",
       "      <td>NaN</td>\n",
       "      <td>9.360000e+17</td>\n",
       "      <td>NaN</td>\n",
       "      <td>&lt;a href=\"http://twitter.com/#!/download/ipad\" ...</td>\n",
       "      <td>scottygirl2014</td>\n",
       "      <td>11</td>\n",
       "      <td>False</td>\n",
       "      <td>False</td>\n",
       "      <td>NaN</td>\n",
       "      <td>NaN</td>\n",
       "      <td>. please speak to this sexual assault by  duri...</td>\n",
       "      <td>. please speak to this sexual assault by  duri...</td>\n",
       "      <td>please speak to this sexual assault by  durin...</td>\n",
       "    </tr>\n",
       "    <tr>\n",
       "      <th>...</th>\n",
       "      <td>...</td>\n",
       "      <td>...</td>\n",
       "      <td>...</td>\n",
       "      <td>...</td>\n",
       "      <td>...</td>\n",
       "      <td>...</td>\n",
       "      <td>...</td>\n",
       "      <td>...</td>\n",
       "      <td>...</td>\n",
       "      <td>...</td>\n",
       "      <td>...</td>\n",
       "      <td>...</td>\n",
       "      <td>...</td>\n",
       "      <td>...</td>\n",
       "      <td>...</td>\n",
       "      <td>...</td>\n",
       "      <td>...</td>\n",
       "      <td>...</td>\n",
       "      <td>...</td>\n",
       "      <td>...</td>\n",
       "    </tr>\n",
       "    <tr>\n",
       "      <th>393130</th>\n",
       "      <td>393131</td>\n",
       "      <td>you can only choose one...#metoo</td>\n",
       "      <td>False</td>\n",
       "      <td>0</td>\n",
       "      <td>NaN</td>\n",
       "      <td>12/25/17 0:00</td>\n",
       "      <td>False</td>\n",
       "      <td>NaN</td>\n",
       "      <td>9.450820e+17</td>\n",
       "      <td>NaN</td>\n",
       "      <td>&lt;a href=\"http://twitter.com/download/android\" ...</td>\n",
       "      <td>boaomega22</td>\n",
       "      <td>616</td>\n",
       "      <td>True</td>\n",
       "      <td>False</td>\n",
       "      <td>NaN</td>\n",
       "      <td>NaN</td>\n",
       "      <td>you can only choose one...</td>\n",
       "      <td>you can only choose one...</td>\n",
       "      <td>you can only choose one</td>\n",
       "    </tr>\n",
       "    <tr>\n",
       "      <th>393131</th>\n",
       "      <td>393132</td>\n",
       "      <td>#metoo, say victims of sexual harassment in ja...</td>\n",
       "      <td>False</td>\n",
       "      <td>0</td>\n",
       "      <td>NaN</td>\n",
       "      <td>12/25/17 0:00</td>\n",
       "      <td>False</td>\n",
       "      <td>NaN</td>\n",
       "      <td>9.450820e+17</td>\n",
       "      <td>NaN</td>\n",
       "      <td>&lt;a href=\"http://bufferapp.com\" rel=\"nofollow\"&gt;...</td>\n",
       "      <td>April_Magazine</td>\n",
       "      <td>0</td>\n",
       "      <td>False</td>\n",
       "      <td>False</td>\n",
       "      <td>NaN</td>\n",
       "      <td>NaN</td>\n",
       "      <td>, say victims of sexual harassment in japan (v...</td>\n",
       "      <td>, say victims of sexual harassment in japan (v...</td>\n",
       "      <td>say victims of sexual harassment in japan via...</td>\n",
       "    </tr>\n",
       "    <tr>\n",
       "      <th>393132</th>\n",
       "      <td>393133</td>\n",
       "      <td>susan collins tries to #metoo her way out of h...</td>\n",
       "      <td>False</td>\n",
       "      <td>0</td>\n",
       "      <td>NaN</td>\n",
       "      <td>12/25/17 0:00</td>\n",
       "      <td>False</td>\n",
       "      <td>NaN</td>\n",
       "      <td>9.450820e+17</td>\n",
       "      <td>NaN</td>\n",
       "      <td>&lt;a href=\"http://twitter.com\" rel=\"nofollow\"&gt;Tw...</td>\n",
       "      <td>Noofer55</td>\n",
       "      <td>0</td>\n",
       "      <td>False</td>\n",
       "      <td>False</td>\n",
       "      <td>NaN</td>\n",
       "      <td>NaN</td>\n",
       "      <td>susan collins tries to  her way out of her tax...</td>\n",
       "      <td>susan collins tries to  her way out of her tax...</td>\n",
       "      <td>susan collins tries to  her way out of her tax...</td>\n",
       "    </tr>\n",
       "    <tr>\n",
       "      <th>393133</th>\n",
       "      <td>393134</td>\n",
       "      <td>punish those who choose not to.#consent #metoo</td>\n",
       "      <td>False</td>\n",
       "      <td>0</td>\n",
       "      <td>NaN</td>\n",
       "      <td>12/25/17 0:00</td>\n",
       "      <td>False</td>\n",
       "      <td>NaN</td>\n",
       "      <td>9.450820e+17</td>\n",
       "      <td>NaN</td>\n",
       "      <td>&lt;a href=\"http://twitter.com\" rel=\"nofollow\"&gt;Tw...</td>\n",
       "      <td>ZBezzt</td>\n",
       "      <td>5</td>\n",
       "      <td>True</td>\n",
       "      <td>False</td>\n",
       "      <td>NaN</td>\n",
       "      <td>NaN</td>\n",
       "      <td>punish those who choose not to.</td>\n",
       "      <td>punish those who choose not to.</td>\n",
       "      <td>punish those who choose not to</td>\n",
       "    </tr>\n",
       "    <tr>\n",
       "      <th>393134</th>\n",
       "      <td>393135</td>\n",
       "      <td>chief justice john roberts orders misconduct r...</td>\n",
       "      <td>False</td>\n",
       "      <td>3</td>\n",
       "      <td>NaN</td>\n",
       "      <td>12/25/17 0:00</td>\n",
       "      <td>False</td>\n",
       "      <td>NaN</td>\n",
       "      <td>9.450820e+17</td>\n",
       "      <td>NaN</td>\n",
       "      <td>&lt;a href=\"http://twitter.com\" rel=\"nofollow\"&gt;Tw...</td>\n",
       "      <td>pewdrdad</td>\n",
       "      <td>3</td>\n",
       "      <td>False</td>\n",
       "      <td>False</td>\n",
       "      <td>NaN</td>\n",
       "      <td>NaN</td>\n",
       "      <td>chief justice john roberts orders misconduct r...</td>\n",
       "      <td>chief justice john roberts orders misconduct r...</td>\n",
       "      <td>chief justice john roberts orders misconduct r...</td>\n",
       "    </tr>\n",
       "  </tbody>\n",
       "</table>\n",
       "<p>393135 rows × 20 columns</p>\n",
       "</div>"
      ],
      "text/plain": [
       "        Unnamed: 0                                               text  \\\n",
       "0                1                            american harem.. #metoo   \n",
       "1                2  why have you guys not resigned yet? liberal hy...   \n",
       "2                3  watched megan kelly ask joe keery this a.m. if...   \n",
       "3                4  women have been talking about this crap the en...   \n",
       "4                5  . please speak to this sexual assault by  duri...   \n",
       "...            ...                                                ...   \n",
       "393130      393131                   you can only choose one...#metoo   \n",
       "393131      393132  #metoo, say victims of sexual harassment in ja...   \n",
       "393132      393133  susan collins tries to #metoo her way out of h...   \n",
       "393133      393134     punish those who choose not to.#consent #metoo   \n",
       "393134      393135  chief justice john roberts orders misconduct r...   \n",
       "\n",
       "        favorited  favoriteCount      replyToSN         created  truncated  \\\n",
       "0           False              0            NaN  11/29/17 23:59      False   \n",
       "1           False              0  johnconyersjr  11/29/17 23:59      False   \n",
       "2           False              0            NaN  11/29/17 23:59       True   \n",
       "3           False              0            NaN  11/29/17 23:59      False   \n",
       "4           False             15            NaN  11/29/17 23:59      False   \n",
       "...           ...            ...            ...             ...        ...   \n",
       "393130      False              0            NaN   12/25/17 0:00      False   \n",
       "393131      False              0            NaN   12/25/17 0:00      False   \n",
       "393132      False              0            NaN   12/25/17 0:00      False   \n",
       "393133      False              0            NaN   12/25/17 0:00      False   \n",
       "393134      False              3            NaN   12/25/17 0:00      False   \n",
       "\n",
       "        replyToSID            id   replyToUID  \\\n",
       "0              NaN  9.360000e+17          NaN   \n",
       "1              NaN  9.360000e+17  266149840.0   \n",
       "2              NaN  9.360000e+17          NaN   \n",
       "3              NaN  9.360000e+17          NaN   \n",
       "4              NaN  9.360000e+17          NaN   \n",
       "...            ...           ...          ...   \n",
       "393130         NaN  9.450820e+17          NaN   \n",
       "393131         NaN  9.450820e+17          NaN   \n",
       "393132         NaN  9.450820e+17          NaN   \n",
       "393133         NaN  9.450820e+17          NaN   \n",
       "393134         NaN  9.450820e+17          NaN   \n",
       "\n",
       "                                             statusSource      screenName  \\\n",
       "0       <a href=\"http://instagram.com\" rel=\"nofollow\">...       ahmediaTV   \n",
       "1       <a href=\"http://twitter.com\" rel=\"nofollow\">Tw...  JesusPrepper74   \n",
       "2       <a href=\"http://twitter.com/download/android\" ...  DemerisePotvin   \n",
       "3       <a href=\"http://twitter.com\" rel=\"nofollow\">Tw...    TheDawnStott   \n",
       "4       <a href=\"http://twitter.com/#!/download/ipad\" ...  scottygirl2014   \n",
       "...                                                   ...             ...   \n",
       "393130  <a href=\"http://twitter.com/download/android\" ...      boaomega22   \n",
       "393131  <a href=\"http://bufferapp.com\" rel=\"nofollow\">...  April_Magazine   \n",
       "393132  <a href=\"http://twitter.com\" rel=\"nofollow\">Tw...        Noofer55   \n",
       "393133  <a href=\"http://twitter.com\" rel=\"nofollow\">Tw...          ZBezzt   \n",
       "393134  <a href=\"http://twitter.com\" rel=\"nofollow\">Tw...        pewdrdad   \n",
       "\n",
       "        retweetCount  isRetweet  retweeted  longitude  latitude  \\\n",
       "0                  0      False      False        NaN       NaN   \n",
       "1                  0      False      False        NaN       NaN   \n",
       "2                  0      False      False        NaN       NaN   \n",
       "3                  0      False      False        NaN       NaN   \n",
       "4                 11      False      False        NaN       NaN   \n",
       "...              ...        ...        ...        ...       ...   \n",
       "393130           616       True      False        NaN       NaN   \n",
       "393131             0      False      False        NaN       NaN   \n",
       "393132             0      False      False        NaN       NaN   \n",
       "393133             5       True      False        NaN       NaN   \n",
       "393134             3      False      False        NaN       NaN   \n",
       "\n",
       "                                     text_without_hashtag  \\\n",
       "0                                        american harem..   \n",
       "1       why have you guys not resigned yet? liberal hy...   \n",
       "2       watched megan kelly ask joe keery this a.m. if...   \n",
       "3       women have been talking about this crap the en...   \n",
       "4       . please speak to this sexual assault by  duri...   \n",
       "...                                                   ...   \n",
       "393130                         you can only choose one...   \n",
       "393131  , say victims of sexual harassment in japan (v...   \n",
       "393132  susan collins tries to  her way out of her tax...   \n",
       "393133                    punish those who choose not to.   \n",
       "393134  chief justice john roberts orders misconduct r...   \n",
       "\n",
       "                                           expanded_tweet  \\\n",
       "0                                        american harem..   \n",
       "1       why have you guys not resigned yet? liberal hy...   \n",
       "2       watched megan kelly ask joe keery this a.m. if...   \n",
       "3       women have been talking about this crap the en...   \n",
       "4       . please speak to this sexual assault by  duri...   \n",
       "...                                                   ...   \n",
       "393130                         you can only choose one...   \n",
       "393131  , say victims of sexual harassment in japan (v...   \n",
       "393132  susan collins tries to  her way out of her tax...   \n",
       "393133                    punish those who choose not to.   \n",
       "393134  chief justice john roberts orders misconduct r...   \n",
       "\n",
       "                                      punctuation_removed  \n",
       "0                                          american harem  \n",
       "1       why have you guys not resigned yet liberal hyp...  \n",
       "2       watched megan kelly ask joe keery this am if s...  \n",
       "3       women have been talking about this crap the en...  \n",
       "4        please speak to this sexual assault by  durin...  \n",
       "...                                                   ...  \n",
       "393130                            you can only choose one  \n",
       "393131   say victims of sexual harassment in japan via...  \n",
       "393132  susan collins tries to  her way out of her tax...  \n",
       "393133                     punish those who choose not to  \n",
       "393134  chief justice john roberts orders misconduct r...  \n",
       "\n",
       "[393135 rows x 20 columns]"
      ]
     },
     "execution_count": 66,
     "metadata": {},
     "output_type": "execute_result"
    }
   ],
   "source": [
    "df"
   ]
  },
  {
   "cell_type": "markdown",
   "id": "cc6fe1b0",
   "metadata": {},
   "source": [
    "# Removing stopwords"
   ]
  },
  {
   "cell_type": "markdown",
   "id": "e581598a",
   "metadata": {},
   "source": [
    "Removal of stopwords is important because:\n",
    "- they carry little to no meaning with themselves\n",
    "- creates unnecessary noise\n",
    "- dilutes the importance of actual words during sentiment analysis / topic modelling.\n",
    "- examples: this, that, and, in, is, at"
   ]
  },
  {
   "cell_type": "code",
   "execution_count": 67,
   "id": "a9c5a4df",
   "metadata": {},
   "outputs": [],
   "source": [
    "from nltk.corpus import stopwords\n",
    "# importing the list of stopwords from the nltk library\n",
    "# it contains a corpus of stopwords for different languages"
   ]
  },
  {
   "cell_type": "code",
   "execution_count": 68,
   "id": "b39d8997",
   "metadata": {},
   "outputs": [],
   "source": [
    "stop_words = set(stopwords.words('english'))\n",
    "# getting the list of stop words in the english language."
   ]
  },
  {
   "cell_type": "markdown",
   "id": "c3e0d189",
   "metadata": {},
   "source": [
    "Before stopword removal, it's essential to tokenize the tweet into a list of words for easy stopword removal."
   ]
  },
  {
   "cell_type": "code",
   "execution_count": 69,
   "id": "0c8d60fc",
   "metadata": {},
   "outputs": [],
   "source": [
    "from nltk.tokenize import word_tokenize, sent_tokenize\n",
    "df['tokenized_tweets'] = df['punctuation_removed'].apply(lambda x: word_tokenize(x))\n",
    "# storing the tokenized_tweets in a different column."
   ]
  },
  {
   "cell_type": "code",
   "execution_count": 70,
   "id": "542419ec",
   "metadata": {},
   "outputs": [
    {
     "data": {
      "text/plain": [
       "0                                         [american, harem]\n",
       "1         [why, have, you, guys, not, resigned, yet, lib...\n",
       "2         [watched, megan, kelly, ask, joe, keery, this,...\n",
       "3         [women, have, been, talking, about, this, crap...\n",
       "4         [please, speak, to, this, sexual, assault, by,...\n",
       "                                ...                        \n",
       "393130                        [you, can, only, choose, one]\n",
       "393131    [say, victims, of, sexual, harassment, in, jap...\n",
       "393132    [susan, collins, tries, to, her, way, out, of,...\n",
       "393133                [punish, those, who, choose, not, to]\n",
       "393134    [chief, justice, john, roberts, orders, miscon...\n",
       "Name: tokenized_tweets, Length: 393135, dtype: object"
      ]
     },
     "execution_count": 70,
     "metadata": {},
     "output_type": "execute_result"
    }
   ],
   "source": [
    "df['tokenized_tweets']"
   ]
  },
  {
   "cell_type": "code",
   "execution_count": 71,
   "id": "0a1ca741",
   "metadata": {},
   "outputs": [],
   "source": [
    "def remove_stopwords(tokens):\n",
    "    filtered_tokens = [token for token in tokens if token.lower() not in stop_words]\n",
    "    return filtered_tokens"
   ]
  },
  {
   "cell_type": "markdown",
   "id": "c2fb758a",
   "metadata": {},
   "source": [
    "How the function works:\n",
    "- it takes in the tweets \n",
    "- then creates a new list that only contains words that are not in the stop_words list\n",
    "- returns that new list"
   ]
  },
  {
   "cell_type": "code",
   "execution_count": 72,
   "id": "12706b6a",
   "metadata": {},
   "outputs": [],
   "source": [
    "df['tokenized_stopword_removed_tweets'] = df['tokenized_tweets'].apply(remove_stopwords) # results in a list of words"
   ]
  },
  {
   "cell_type": "code",
   "execution_count": 73,
   "id": "11d54d5d",
   "metadata": {},
   "outputs": [],
   "source": [
    "df['almost_clean_tweets'] = df['tokenized_stopword_removed_tweets'].apply(lambda x: ' '.join(x)) \n",
    "# join them back together after stopword removal, helps eliminate any unnecessary space"
   ]
  },
  {
   "cell_type": "code",
   "execution_count": 74,
   "id": "0f146668",
   "metadata": {},
   "outputs": [
    {
     "data": {
      "text/html": [
       "<div>\n",
       "<style scoped>\n",
       "    .dataframe tbody tr th:only-of-type {\n",
       "        vertical-align: middle;\n",
       "    }\n",
       "\n",
       "    .dataframe tbody tr th {\n",
       "        vertical-align: top;\n",
       "    }\n",
       "\n",
       "    .dataframe thead th {\n",
       "        text-align: right;\n",
       "    }\n",
       "</style>\n",
       "<table border=\"1\" class=\"dataframe\">\n",
       "  <thead>\n",
       "    <tr style=\"text-align: right;\">\n",
       "      <th></th>\n",
       "      <th>Unnamed: 0</th>\n",
       "      <th>text</th>\n",
       "      <th>favorited</th>\n",
       "      <th>favoriteCount</th>\n",
       "      <th>replyToSN</th>\n",
       "      <th>created</th>\n",
       "      <th>truncated</th>\n",
       "      <th>replyToSID</th>\n",
       "      <th>id</th>\n",
       "      <th>replyToUID</th>\n",
       "      <th>...</th>\n",
       "      <th>isRetweet</th>\n",
       "      <th>retweeted</th>\n",
       "      <th>longitude</th>\n",
       "      <th>latitude</th>\n",
       "      <th>text_without_hashtag</th>\n",
       "      <th>expanded_tweet</th>\n",
       "      <th>punctuation_removed</th>\n",
       "      <th>tokenized_tweets</th>\n",
       "      <th>tokenized_stopword_removed_tweets</th>\n",
       "      <th>almost_clean_tweets</th>\n",
       "    </tr>\n",
       "  </thead>\n",
       "  <tbody>\n",
       "    <tr>\n",
       "      <th>0</th>\n",
       "      <td>1</td>\n",
       "      <td>american harem.. #metoo</td>\n",
       "      <td>False</td>\n",
       "      <td>0</td>\n",
       "      <td>NaN</td>\n",
       "      <td>11/29/17 23:59</td>\n",
       "      <td>False</td>\n",
       "      <td>NaN</td>\n",
       "      <td>9.360000e+17</td>\n",
       "      <td>NaN</td>\n",
       "      <td>...</td>\n",
       "      <td>False</td>\n",
       "      <td>False</td>\n",
       "      <td>NaN</td>\n",
       "      <td>NaN</td>\n",
       "      <td>american harem..</td>\n",
       "      <td>american harem..</td>\n",
       "      <td>american harem</td>\n",
       "      <td>[american, harem]</td>\n",
       "      <td>[american, harem]</td>\n",
       "      <td>american harem</td>\n",
       "    </tr>\n",
       "    <tr>\n",
       "      <th>1</th>\n",
       "      <td>2</td>\n",
       "      <td>why have you guys not resigned yet? liberal hy...</td>\n",
       "      <td>False</td>\n",
       "      <td>0</td>\n",
       "      <td>johnconyersjr</td>\n",
       "      <td>11/29/17 23:59</td>\n",
       "      <td>False</td>\n",
       "      <td>NaN</td>\n",
       "      <td>9.360000e+17</td>\n",
       "      <td>266149840.0</td>\n",
       "      <td>...</td>\n",
       "      <td>False</td>\n",
       "      <td>False</td>\n",
       "      <td>NaN</td>\n",
       "      <td>NaN</td>\n",
       "      <td>why have you guys not resigned yet? liberal hy...</td>\n",
       "      <td>why have you guys not resigned yet? liberal hy...</td>\n",
       "      <td>why have you guys not resigned yet liberal hyp...</td>\n",
       "      <td>[why, have, you, guys, not, resigned, yet, lib...</td>\n",
       "      <td>[guys, resigned, yet, liberal, hypocrisy]</td>\n",
       "      <td>guys resigned yet liberal hypocrisy</td>\n",
       "    </tr>\n",
       "    <tr>\n",
       "      <th>2</th>\n",
       "      <td>3</td>\n",
       "      <td>watched megan kelly ask joe keery this a.m. if...</td>\n",
       "      <td>False</td>\n",
       "      <td>0</td>\n",
       "      <td>NaN</td>\n",
       "      <td>11/29/17 23:59</td>\n",
       "      <td>True</td>\n",
       "      <td>NaN</td>\n",
       "      <td>9.360000e+17</td>\n",
       "      <td>NaN</td>\n",
       "      <td>...</td>\n",
       "      <td>False</td>\n",
       "      <td>False</td>\n",
       "      <td>NaN</td>\n",
       "      <td>NaN</td>\n",
       "      <td>watched megan kelly ask joe keery this a.m. if...</td>\n",
       "      <td>watched megan kelly ask joe keery this a.m. if...</td>\n",
       "      <td>watched megan kelly ask joe keery this am if s...</td>\n",
       "      <td>[watched, megan, kelly, ask, joe, keery, this,...</td>\n",
       "      <td>[watched, megan, kelly, ask, joe, keery, rub, ...</td>\n",
       "      <td>watched megan kelly ask joe keery rub fingers ...</td>\n",
       "    </tr>\n",
       "    <tr>\n",
       "      <th>3</th>\n",
       "      <td>4</td>\n",
       "      <td>women have been talking about this crap the en...</td>\n",
       "      <td>False</td>\n",
       "      <td>0</td>\n",
       "      <td>NaN</td>\n",
       "      <td>11/29/17 23:59</td>\n",
       "      <td>False</td>\n",
       "      <td>NaN</td>\n",
       "      <td>9.360000e+17</td>\n",
       "      <td>NaN</td>\n",
       "      <td>...</td>\n",
       "      <td>False</td>\n",
       "      <td>False</td>\n",
       "      <td>NaN</td>\n",
       "      <td>NaN</td>\n",
       "      <td>women have been talking about this crap the en...</td>\n",
       "      <td>women have been talking about this crap the en...</td>\n",
       "      <td>women have been talking about this crap the en...</td>\n",
       "      <td>[women, have, been, talking, about, this, crap...</td>\n",
       "      <td>[women, talking, crap, entire, time, finally, ...</td>\n",
       "      <td>women talking crap entire time finally someone...</td>\n",
       "    </tr>\n",
       "    <tr>\n",
       "      <th>4</th>\n",
       "      <td>5</td>\n",
       "      <td>. please speak to this sexual assault by  duri...</td>\n",
       "      <td>False</td>\n",
       "      <td>15</td>\n",
       "      <td>NaN</td>\n",
       "      <td>11/29/17 23:59</td>\n",
       "      <td>False</td>\n",
       "      <td>NaN</td>\n",
       "      <td>9.360000e+17</td>\n",
       "      <td>NaN</td>\n",
       "      <td>...</td>\n",
       "      <td>False</td>\n",
       "      <td>False</td>\n",
       "      <td>NaN</td>\n",
       "      <td>NaN</td>\n",
       "      <td>. please speak to this sexual assault by  duri...</td>\n",
       "      <td>. please speak to this sexual assault by  duri...</td>\n",
       "      <td>please speak to this sexual assault by  durin...</td>\n",
       "      <td>[please, speak, to, this, sexual, assault, by,...</td>\n",
       "      <td>[please, speak, sexual, assault, interview]</td>\n",
       "      <td>please speak sexual assault interview</td>\n",
       "    </tr>\n",
       "    <tr>\n",
       "      <th>...</th>\n",
       "      <td>...</td>\n",
       "      <td>...</td>\n",
       "      <td>...</td>\n",
       "      <td>...</td>\n",
       "      <td>...</td>\n",
       "      <td>...</td>\n",
       "      <td>...</td>\n",
       "      <td>...</td>\n",
       "      <td>...</td>\n",
       "      <td>...</td>\n",
       "      <td>...</td>\n",
       "      <td>...</td>\n",
       "      <td>...</td>\n",
       "      <td>...</td>\n",
       "      <td>...</td>\n",
       "      <td>...</td>\n",
       "      <td>...</td>\n",
       "      <td>...</td>\n",
       "      <td>...</td>\n",
       "      <td>...</td>\n",
       "      <td>...</td>\n",
       "    </tr>\n",
       "    <tr>\n",
       "      <th>393130</th>\n",
       "      <td>393131</td>\n",
       "      <td>you can only choose one...#metoo</td>\n",
       "      <td>False</td>\n",
       "      <td>0</td>\n",
       "      <td>NaN</td>\n",
       "      <td>12/25/17 0:00</td>\n",
       "      <td>False</td>\n",
       "      <td>NaN</td>\n",
       "      <td>9.450820e+17</td>\n",
       "      <td>NaN</td>\n",
       "      <td>...</td>\n",
       "      <td>True</td>\n",
       "      <td>False</td>\n",
       "      <td>NaN</td>\n",
       "      <td>NaN</td>\n",
       "      <td>you can only choose one...</td>\n",
       "      <td>you can only choose one...</td>\n",
       "      <td>you can only choose one</td>\n",
       "      <td>[you, can, only, choose, one]</td>\n",
       "      <td>[choose, one]</td>\n",
       "      <td>choose one</td>\n",
       "    </tr>\n",
       "    <tr>\n",
       "      <th>393131</th>\n",
       "      <td>393132</td>\n",
       "      <td>#metoo, say victims of sexual harassment in ja...</td>\n",
       "      <td>False</td>\n",
       "      <td>0</td>\n",
       "      <td>NaN</td>\n",
       "      <td>12/25/17 0:00</td>\n",
       "      <td>False</td>\n",
       "      <td>NaN</td>\n",
       "      <td>9.450820e+17</td>\n",
       "      <td>NaN</td>\n",
       "      <td>...</td>\n",
       "      <td>False</td>\n",
       "      <td>False</td>\n",
       "      <td>NaN</td>\n",
       "      <td>NaN</td>\n",
       "      <td>, say victims of sexual harassment in japan (v...</td>\n",
       "      <td>, say victims of sexual harassment in japan (v...</td>\n",
       "      <td>say victims of sexual harassment in japan via...</td>\n",
       "      <td>[say, victims, of, sexual, harassment, in, jap...</td>\n",
       "      <td>[say, victims, sexual, harassment, japan, via,...</td>\n",
       "      <td>say victims sexual harassment japan via asahi ...</td>\n",
       "    </tr>\n",
       "    <tr>\n",
       "      <th>393132</th>\n",
       "      <td>393133</td>\n",
       "      <td>susan collins tries to #metoo her way out of h...</td>\n",
       "      <td>False</td>\n",
       "      <td>0</td>\n",
       "      <td>NaN</td>\n",
       "      <td>12/25/17 0:00</td>\n",
       "      <td>False</td>\n",
       "      <td>NaN</td>\n",
       "      <td>9.450820e+17</td>\n",
       "      <td>NaN</td>\n",
       "      <td>...</td>\n",
       "      <td>False</td>\n",
       "      <td>False</td>\n",
       "      <td>NaN</td>\n",
       "      <td>NaN</td>\n",
       "      <td>susan collins tries to  her way out of her tax...</td>\n",
       "      <td>susan collins tries to  her way out of her tax...</td>\n",
       "      <td>susan collins tries to  her way out of her tax...</td>\n",
       "      <td>[susan, collins, tries, to, her, way, out, of,...</td>\n",
       "      <td>[susan, collins, tries, way, tax, bill, debacle]</td>\n",
       "      <td>susan collins tries way tax bill debacle</td>\n",
       "    </tr>\n",
       "    <tr>\n",
       "      <th>393133</th>\n",
       "      <td>393134</td>\n",
       "      <td>punish those who choose not to.#consent #metoo</td>\n",
       "      <td>False</td>\n",
       "      <td>0</td>\n",
       "      <td>NaN</td>\n",
       "      <td>12/25/17 0:00</td>\n",
       "      <td>False</td>\n",
       "      <td>NaN</td>\n",
       "      <td>9.450820e+17</td>\n",
       "      <td>NaN</td>\n",
       "      <td>...</td>\n",
       "      <td>True</td>\n",
       "      <td>False</td>\n",
       "      <td>NaN</td>\n",
       "      <td>NaN</td>\n",
       "      <td>punish those who choose not to.</td>\n",
       "      <td>punish those who choose not to.</td>\n",
       "      <td>punish those who choose not to</td>\n",
       "      <td>[punish, those, who, choose, not, to]</td>\n",
       "      <td>[punish, choose]</td>\n",
       "      <td>punish choose</td>\n",
       "    </tr>\n",
       "    <tr>\n",
       "      <th>393134</th>\n",
       "      <td>393135</td>\n",
       "      <td>chief justice john roberts orders misconduct r...</td>\n",
       "      <td>False</td>\n",
       "      <td>3</td>\n",
       "      <td>NaN</td>\n",
       "      <td>12/25/17 0:00</td>\n",
       "      <td>False</td>\n",
       "      <td>NaN</td>\n",
       "      <td>9.450820e+17</td>\n",
       "      <td>NaN</td>\n",
       "      <td>...</td>\n",
       "      <td>False</td>\n",
       "      <td>False</td>\n",
       "      <td>NaN</td>\n",
       "      <td>NaN</td>\n",
       "      <td>chief justice john roberts orders misconduct r...</td>\n",
       "      <td>chief justice john roberts orders misconduct r...</td>\n",
       "      <td>chief justice john roberts orders misconduct r...</td>\n",
       "      <td>[chief, justice, john, roberts, orders, miscon...</td>\n",
       "      <td>[chief, justice, john, roberts, orders, miscon...</td>\n",
       "      <td>chief justice john roberts orders misconduct r...</td>\n",
       "    </tr>\n",
       "  </tbody>\n",
       "</table>\n",
       "<p>393135 rows × 23 columns</p>\n",
       "</div>"
      ],
      "text/plain": [
       "        Unnamed: 0                                               text  \\\n",
       "0                1                            american harem.. #metoo   \n",
       "1                2  why have you guys not resigned yet? liberal hy...   \n",
       "2                3  watched megan kelly ask joe keery this a.m. if...   \n",
       "3                4  women have been talking about this crap the en...   \n",
       "4                5  . please speak to this sexual assault by  duri...   \n",
       "...            ...                                                ...   \n",
       "393130      393131                   you can only choose one...#metoo   \n",
       "393131      393132  #metoo, say victims of sexual harassment in ja...   \n",
       "393132      393133  susan collins tries to #metoo her way out of h...   \n",
       "393133      393134     punish those who choose not to.#consent #metoo   \n",
       "393134      393135  chief justice john roberts orders misconduct r...   \n",
       "\n",
       "        favorited  favoriteCount      replyToSN         created  truncated  \\\n",
       "0           False              0            NaN  11/29/17 23:59      False   \n",
       "1           False              0  johnconyersjr  11/29/17 23:59      False   \n",
       "2           False              0            NaN  11/29/17 23:59       True   \n",
       "3           False              0            NaN  11/29/17 23:59      False   \n",
       "4           False             15            NaN  11/29/17 23:59      False   \n",
       "...           ...            ...            ...             ...        ...   \n",
       "393130      False              0            NaN   12/25/17 0:00      False   \n",
       "393131      False              0            NaN   12/25/17 0:00      False   \n",
       "393132      False              0            NaN   12/25/17 0:00      False   \n",
       "393133      False              0            NaN   12/25/17 0:00      False   \n",
       "393134      False              3            NaN   12/25/17 0:00      False   \n",
       "\n",
       "        replyToSID            id   replyToUID  ... isRetweet retweeted  \\\n",
       "0              NaN  9.360000e+17          NaN  ...     False     False   \n",
       "1              NaN  9.360000e+17  266149840.0  ...     False     False   \n",
       "2              NaN  9.360000e+17          NaN  ...     False     False   \n",
       "3              NaN  9.360000e+17          NaN  ...     False     False   \n",
       "4              NaN  9.360000e+17          NaN  ...     False     False   \n",
       "...            ...           ...          ...  ...       ...       ...   \n",
       "393130         NaN  9.450820e+17          NaN  ...      True     False   \n",
       "393131         NaN  9.450820e+17          NaN  ...     False     False   \n",
       "393132         NaN  9.450820e+17          NaN  ...     False     False   \n",
       "393133         NaN  9.450820e+17          NaN  ...      True     False   \n",
       "393134         NaN  9.450820e+17          NaN  ...     False     False   \n",
       "\n",
       "        longitude  latitude  \\\n",
       "0             NaN       NaN   \n",
       "1             NaN       NaN   \n",
       "2             NaN       NaN   \n",
       "3             NaN       NaN   \n",
       "4             NaN       NaN   \n",
       "...           ...       ...   \n",
       "393130        NaN       NaN   \n",
       "393131        NaN       NaN   \n",
       "393132        NaN       NaN   \n",
       "393133        NaN       NaN   \n",
       "393134        NaN       NaN   \n",
       "\n",
       "                                     text_without_hashtag  \\\n",
       "0                                        american harem..   \n",
       "1       why have you guys not resigned yet? liberal hy...   \n",
       "2       watched megan kelly ask joe keery this a.m. if...   \n",
       "3       women have been talking about this crap the en...   \n",
       "4       . please speak to this sexual assault by  duri...   \n",
       "...                                                   ...   \n",
       "393130                         you can only choose one...   \n",
       "393131  , say victims of sexual harassment in japan (v...   \n",
       "393132  susan collins tries to  her way out of her tax...   \n",
       "393133                    punish those who choose not to.   \n",
       "393134  chief justice john roberts orders misconduct r...   \n",
       "\n",
       "                                           expanded_tweet  \\\n",
       "0                                        american harem..   \n",
       "1       why have you guys not resigned yet? liberal hy...   \n",
       "2       watched megan kelly ask joe keery this a.m. if...   \n",
       "3       women have been talking about this crap the en...   \n",
       "4       . please speak to this sexual assault by  duri...   \n",
       "...                                                   ...   \n",
       "393130                         you can only choose one...   \n",
       "393131  , say victims of sexual harassment in japan (v...   \n",
       "393132  susan collins tries to  her way out of her tax...   \n",
       "393133                    punish those who choose not to.   \n",
       "393134  chief justice john roberts orders misconduct r...   \n",
       "\n",
       "                                      punctuation_removed  \\\n",
       "0                                          american harem   \n",
       "1       why have you guys not resigned yet liberal hyp...   \n",
       "2       watched megan kelly ask joe keery this am if s...   \n",
       "3       women have been talking about this crap the en...   \n",
       "4        please speak to this sexual assault by  durin...   \n",
       "...                                                   ...   \n",
       "393130                            you can only choose one   \n",
       "393131   say victims of sexual harassment in japan via...   \n",
       "393132  susan collins tries to  her way out of her tax...   \n",
       "393133                     punish those who choose not to   \n",
       "393134  chief justice john roberts orders misconduct r...   \n",
       "\n",
       "                                         tokenized_tweets  \\\n",
       "0                                       [american, harem]   \n",
       "1       [why, have, you, guys, not, resigned, yet, lib...   \n",
       "2       [watched, megan, kelly, ask, joe, keery, this,...   \n",
       "3       [women, have, been, talking, about, this, crap...   \n",
       "4       [please, speak, to, this, sexual, assault, by,...   \n",
       "...                                                   ...   \n",
       "393130                      [you, can, only, choose, one]   \n",
       "393131  [say, victims, of, sexual, harassment, in, jap...   \n",
       "393132  [susan, collins, tries, to, her, way, out, of,...   \n",
       "393133              [punish, those, who, choose, not, to]   \n",
       "393134  [chief, justice, john, roberts, orders, miscon...   \n",
       "\n",
       "                        tokenized_stopword_removed_tweets  \\\n",
       "0                                       [american, harem]   \n",
       "1               [guys, resigned, yet, liberal, hypocrisy]   \n",
       "2       [watched, megan, kelly, ask, joe, keery, rub, ...   \n",
       "3       [women, talking, crap, entire, time, finally, ...   \n",
       "4             [please, speak, sexual, assault, interview]   \n",
       "...                                                   ...   \n",
       "393130                                      [choose, one]   \n",
       "393131  [say, victims, sexual, harassment, japan, via,...   \n",
       "393132   [susan, collins, tries, way, tax, bill, debacle]   \n",
       "393133                                   [punish, choose]   \n",
       "393134  [chief, justice, john, roberts, orders, miscon...   \n",
       "\n",
       "                                      almost_clean_tweets  \n",
       "0                                          american harem  \n",
       "1                     guys resigned yet liberal hypocrisy  \n",
       "2       watched megan kelly ask joe keery rub fingers ...  \n",
       "3       women talking crap entire time finally someone...  \n",
       "4                   please speak sexual assault interview  \n",
       "...                                                   ...  \n",
       "393130                                         choose one  \n",
       "393131  say victims sexual harassment japan via asahi ...  \n",
       "393132           susan collins tries way tax bill debacle  \n",
       "393133                                      punish choose  \n",
       "393134  chief justice john roberts orders misconduct r...  \n",
       "\n",
       "[393135 rows x 23 columns]"
      ]
     },
     "execution_count": 74,
     "metadata": {},
     "output_type": "execute_result"
    }
   ],
   "source": [
    "df"
   ]
  },
  {
   "cell_type": "markdown",
   "id": "d24a9d98",
   "metadata": {},
   "source": [
    "at this point `almost_clean_tweets` column contains tweets that have the following operations done on:\n",
    "- removed links\n",
    "- removed usernames\n",
    "- removed hashtags\n",
    "- removed 'RT: '\n",
    "- removed trailing/leading spaces\n",
    "- removed trailing underscores\n",
    "- removed trailer/leading quotation marks\n",
    "- contractions expanded\n",
    "- punctuation removed\n",
    "- tokenized & then stopwords removed"
   ]
  },
  {
   "cell_type": "markdown",
   "id": "e87b319b",
   "metadata": {},
   "source": [
    "# Lemmatization (final step)"
   ]
  },
  {
   "cell_type": "code",
   "execution_count": 75,
   "id": "63345d08",
   "metadata": {},
   "outputs": [],
   "source": [
    "import spacy\n",
    "nlp = spacy.load(\"en_core_web_md\")\n",
    "\n",
    "# loading the pre-trained medium english model from spacy"
   ]
  },
  {
   "cell_type": "code",
   "execution_count": 76,
   "id": "6352094d",
   "metadata": {},
   "outputs": [],
   "source": [
    "lemmatized_tweets = []\n",
    "\n",
    "for text in df['almost_clean_tweets']:\n",
    "    doc = nlp(text)\n",
    "    lemmatized_text = \" \".join([token.lemma_ for token in doc])\n",
    "    lemmatized_tweets.append(lemmatized_text)\n",
    "    \n",
    "    \n",
    "df['lemmatized_tweets'] = lemmatized_tweets"
   ]
  },
  {
   "cell_type": "markdown",
   "id": "2c706716",
   "metadata": {},
   "source": [
    "Code explaination:\n",
    "- the `nlp(text)` tokenizes the tweet in a non-explicit manner (doesn't create a list).\n",
    "- additionally, it does linguistic and syntactic analysis on the text.\n",
    "- a new list is made called `lemmatized_text` which contains the .lemma_ attribute of the token, i.e it's root form.\n",
    "- the list is joined into a string\n",
    "- creating a new column for the lemmatized tweets."
   ]
  },
  {
   "cell_type": "markdown",
   "id": "b8d81155",
   "metadata": {},
   "source": [
    "##### Lemmatization is the last step which is final, the tweets now only contains words that are necessary to us and in their root form."
   ]
  },
  {
   "cell_type": "markdown",
   "id": "b06f58c3",
   "metadata": {},
   "source": [
    "# Exporting the preprocessed dataframe"
   ]
  },
  {
   "cell_type": "code",
   "execution_count": 77,
   "id": "bae9f31a",
   "metadata": {},
   "outputs": [],
   "source": [
    "df.to_csv(\"Preprocessed_Tweets.csv\")"
   ]
  },
  {
   "cell_type": "markdown",
   "id": "0cc8f444",
   "metadata": {},
   "source": [
    "----------------------------"
   ]
  }
 ],
 "metadata": {
  "kernelspec": {
   "display_name": "Python 3",
   "language": "python",
   "name": "python3"
  },
  "language_info": {
   "codemirror_mode": {
    "name": "ipython",
    "version": 3
   },
   "file_extension": ".py",
   "mimetype": "text/x-python",
   "name": "python",
   "nbconvert_exporter": "python",
   "pygments_lexer": "ipython3",
   "version": "3.8.8"
  }
 },
 "nbformat": 4,
 "nbformat_minor": 5
}
